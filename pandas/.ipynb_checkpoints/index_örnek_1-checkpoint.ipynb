{
 "cells": [
  {
   "cell_type": "markdown",
   "id": "d3b6dcfd",
   "metadata": {},
   "source": [
    "# Multi Index örnekler"
   ]
  },
  {
   "cell_type": "code",
   "execution_count": 1,
   "id": "195987e6",
   "metadata": {},
   "outputs": [],
   "source": [
    "import numpy as np\n",
    "import pandas as pd"
   ]
  },
  {
   "cell_type": "code",
   "execution_count": 2,
   "id": "fd1e12d5",
   "metadata": {},
   "outputs": [
    {
     "data": {
      "text/plain": [
       "array([[49, 42, 32, 22],\n",
       "       [47, 25, 50, 41]])"
      ]
     },
     "execution_count": 2,
     "metadata": {},
     "output_type": "execute_result"
    }
   ],
   "source": [
    "npDizi1 = np.random.randint(20,51,size=(2,4))\n",
    "npDizi1"
   ]
  },
  {
   "cell_type": "code",
   "execution_count": 3,
   "id": "32a61a98",
   "metadata": {},
   "outputs": [
    {
     "data": {
      "text/plain": [
       "2"
      ]
     },
     "execution_count": 3,
     "metadata": {},
     "output_type": "execute_result"
    }
   ],
   "source": [
    "x_size = np.size(npDizi1,0)\n",
    "x_size"
   ]
  },
  {
   "cell_type": "code",
   "execution_count": 4,
   "id": "0136508f",
   "metadata": {},
   "outputs": [],
   "source": [
    "y_size = np.size(npDizi1,1)\n",
    "y_size\n",
    "\n",
    "x_indexes = []\n",
    "y_indexes = []\n",
    "sayac = 1"
   ]
  },
  {
   "cell_type": "code",
   "execution_count": 5,
   "id": "e868d3d1",
   "metadata": {},
   "outputs": [
    {
     "name": "stdout",
     "output_type": "stream",
     "text": [
      "1. indeks giriniz : 1\n",
      "2. indeks giriniz : 2\n"
     ]
    },
    {
     "data": {
      "text/plain": [
       "['1', '2']"
      ]
     },
     "execution_count": 5,
     "metadata": {},
     "output_type": "execute_result"
    }
   ],
   "source": [
    "for input1 in range(x_size):\n",
    "    input1=input(f\"{sayac}. indeks giriniz : \")\n",
    "    x_indexes.append(input1)\n",
    "    sayac = sayac + 1\n",
    "\n",
    "sayac = 1\n",
    "x_indexes"
   ]
  },
  {
   "cell_type": "code",
   "execution_count": 6,
   "id": "b793ce31",
   "metadata": {},
   "outputs": [
    {
     "name": "stdout",
     "output_type": "stream",
     "text": [
      "1. column name giriniz : Yaş\n",
      "2. column name giriniz : Sıra No\n",
      "3. column name giriniz : Grup No\n",
      "4. column name giriniz : Kod\n"
     ]
    },
    {
     "data": {
      "text/plain": [
       "['Yaş', 'Sıra No', 'Grup No', 'Kod']"
      ]
     },
     "execution_count": 6,
     "metadata": {},
     "output_type": "execute_result"
    }
   ],
   "source": [
    "for input1 in range(y_size):\n",
    "    input1=input(f\"{sayac}. column name giriniz : \")\n",
    "    y_indexes.append(input1)\n",
    "    sayac = sayac + 1\n",
    "    \n",
    "y_indexes"
   ]
  },
  {
   "cell_type": "code",
   "execution_count": 7,
   "id": "83eccc6e",
   "metadata": {},
   "outputs": [
    {
     "data": {
      "text/html": [
       "<div>\n",
       "<style scoped>\n",
       "    .dataframe tbody tr th:only-of-type {\n",
       "        vertical-align: middle;\n",
       "    }\n",
       "\n",
       "    .dataframe tbody tr th {\n",
       "        vertical-align: top;\n",
       "    }\n",
       "\n",
       "    .dataframe thead th {\n",
       "        text-align: right;\n",
       "    }\n",
       "</style>\n",
       "<table border=\"1\" class=\"dataframe\">\n",
       "  <thead>\n",
       "    <tr style=\"text-align: right;\">\n",
       "      <th></th>\n",
       "      <th>Yaş</th>\n",
       "      <th>Sıra No</th>\n",
       "      <th>Grup No</th>\n",
       "      <th>Kod</th>\n",
       "    </tr>\n",
       "  </thead>\n",
       "  <tbody>\n",
       "    <tr>\n",
       "      <th>1</th>\n",
       "      <td>49</td>\n",
       "      <td>42</td>\n",
       "      <td>32</td>\n",
       "      <td>22</td>\n",
       "    </tr>\n",
       "    <tr>\n",
       "      <th>2</th>\n",
       "      <td>47</td>\n",
       "      <td>25</td>\n",
       "      <td>50</td>\n",
       "      <td>41</td>\n",
       "    </tr>\n",
       "  </tbody>\n",
       "</table>\n",
       "</div>"
      ],
      "text/plain": [
       "   Yaş  Sıra No  Grup No  Kod\n",
       "1   49       42       32   22\n",
       "2   47       25       50   41"
      ]
     },
     "execution_count": 7,
     "metadata": {},
     "output_type": "execute_result"
    }
   ],
   "source": [
    "dataFrame1 = pd.DataFrame(npDizi1, index=x_indexes, columns=y_indexes)\n",
    "dataFrame1"
   ]
  },
  {
   "cell_type": "code",
   "execution_count": 8,
   "id": "62ce31ab",
   "metadata": {},
   "outputs": [],
   "source": [
    "dataFrame1[\"Emekliliğe Kalan Süre\"] = 50 - dataFrame1[\"Yaş\"]"
   ]
  },
  {
   "cell_type": "code",
   "execution_count": 9,
   "id": "5c2189b3",
   "metadata": {},
   "outputs": [
    {
     "data": {
      "text/html": [
       "<div>\n",
       "<style scoped>\n",
       "    .dataframe tbody tr th:only-of-type {\n",
       "        vertical-align: middle;\n",
       "    }\n",
       "\n",
       "    .dataframe tbody tr th {\n",
       "        vertical-align: top;\n",
       "    }\n",
       "\n",
       "    .dataframe thead th {\n",
       "        text-align: right;\n",
       "    }\n",
       "</style>\n",
       "<table border=\"1\" class=\"dataframe\">\n",
       "  <thead>\n",
       "    <tr style=\"text-align: right;\">\n",
       "      <th></th>\n",
       "      <th>Yaş</th>\n",
       "      <th>Sıra No</th>\n",
       "      <th>Grup No</th>\n",
       "      <th>Kod</th>\n",
       "      <th>Emekliliğe Kalan Süre</th>\n",
       "    </tr>\n",
       "  </thead>\n",
       "  <tbody>\n",
       "    <tr>\n",
       "      <th>1</th>\n",
       "      <td>49</td>\n",
       "      <td>42</td>\n",
       "      <td>32</td>\n",
       "      <td>22</td>\n",
       "      <td>1</td>\n",
       "    </tr>\n",
       "    <tr>\n",
       "      <th>2</th>\n",
       "      <td>47</td>\n",
       "      <td>25</td>\n",
       "      <td>50</td>\n",
       "      <td>41</td>\n",
       "      <td>3</td>\n",
       "    </tr>\n",
       "  </tbody>\n",
       "</table>\n",
       "</div>"
      ],
      "text/plain": [
       "   Yaş  Sıra No  Grup No  Kod  Emekliliğe Kalan Süre\n",
       "1   49       42       32   22                      1\n",
       "2   47       25       50   41                      3"
      ]
     },
     "execution_count": 9,
     "metadata": {},
     "output_type": "execute_result"
    }
   ],
   "source": [
    "dataFrame1"
   ]
  },
  {
   "cell_type": "code",
   "execution_count": 17,
   "id": "bdea9e69",
   "metadata": {},
   "outputs": [],
   "source": [
    "eklemeDizi = np.random.randint(20,50,2)"
   ]
  },
  {
   "cell_type": "code",
   "execution_count": 18,
   "id": "9460d3a1",
   "metadata": {},
   "outputs": [
    {
     "data": {
      "text/plain": [
       "array([47, 38])"
      ]
     },
     "execution_count": 18,
     "metadata": {},
     "output_type": "execute_result"
    }
   ],
   "source": [
    "eklemeDizi"
   ]
  },
  {
   "cell_type": "code",
   "execution_count": 19,
   "id": "298a73e1",
   "metadata": {},
   "outputs": [],
   "source": [
    "dataFrame1[\"Ekleme\"] = eklemeDizi\n"
   ]
  },
  {
   "cell_type": "code",
   "execution_count": 20,
   "id": "1832fcba",
   "metadata": {},
   "outputs": [
    {
     "data": {
      "text/html": [
       "<div>\n",
       "<style scoped>\n",
       "    .dataframe tbody tr th:only-of-type {\n",
       "        vertical-align: middle;\n",
       "    }\n",
       "\n",
       "    .dataframe tbody tr th {\n",
       "        vertical-align: top;\n",
       "    }\n",
       "\n",
       "    .dataframe thead th {\n",
       "        text-align: right;\n",
       "    }\n",
       "</style>\n",
       "<table border=\"1\" class=\"dataframe\">\n",
       "  <thead>\n",
       "    <tr style=\"text-align: right;\">\n",
       "      <th></th>\n",
       "      <th>Yaş</th>\n",
       "      <th>Sıra No</th>\n",
       "      <th>Grup No</th>\n",
       "      <th>Kod</th>\n",
       "      <th>Emekliliğe Kalan Süre</th>\n",
       "      <th>Ekleme</th>\n",
       "    </tr>\n",
       "  </thead>\n",
       "  <tbody>\n",
       "    <tr>\n",
       "      <th>1</th>\n",
       "      <td>49</td>\n",
       "      <td>42</td>\n",
       "      <td>32</td>\n",
       "      <td>22</td>\n",
       "      <td>1</td>\n",
       "      <td>47</td>\n",
       "    </tr>\n",
       "    <tr>\n",
       "      <th>2</th>\n",
       "      <td>47</td>\n",
       "      <td>25</td>\n",
       "      <td>50</td>\n",
       "      <td>41</td>\n",
       "      <td>3</td>\n",
       "      <td>38</td>\n",
       "    </tr>\n",
       "  </tbody>\n",
       "</table>\n",
       "</div>"
      ],
      "text/plain": [
       "   Yaş  Sıra No  Grup No  Kod  Emekliliğe Kalan Süre  Ekleme\n",
       "1   49       42       32   22                      1      47\n",
       "2   47       25       50   41                      3      38"
      ]
     },
     "execution_count": 20,
     "metadata": {},
     "output_type": "execute_result"
    }
   ],
   "source": [
    "dataFrame1"
   ]
  },
  {
   "cell_type": "code",
   "execution_count": 22,
   "id": "fd3ce075",
   "metadata": {},
   "outputs": [],
   "source": [
    "dataFrame1.drop(\"Ekleme\", axis=1, inplace=True)"
   ]
  },
  {
   "cell_type": "code",
   "execution_count": 23,
   "id": "c77a39e6",
   "metadata": {},
   "outputs": [
    {
     "data": {
      "text/html": [
       "<div>\n",
       "<style scoped>\n",
       "    .dataframe tbody tr th:only-of-type {\n",
       "        vertical-align: middle;\n",
       "    }\n",
       "\n",
       "    .dataframe tbody tr th {\n",
       "        vertical-align: top;\n",
       "    }\n",
       "\n",
       "    .dataframe thead th {\n",
       "        text-align: right;\n",
       "    }\n",
       "</style>\n",
       "<table border=\"1\" class=\"dataframe\">\n",
       "  <thead>\n",
       "    <tr style=\"text-align: right;\">\n",
       "      <th></th>\n",
       "      <th>Yaş</th>\n",
       "      <th>Sıra No</th>\n",
       "      <th>Grup No</th>\n",
       "      <th>Kod</th>\n",
       "      <th>Emekliliğe Kalan Süre</th>\n",
       "    </tr>\n",
       "  </thead>\n",
       "  <tbody>\n",
       "    <tr>\n",
       "      <th>1</th>\n",
       "      <td>49</td>\n",
       "      <td>42</td>\n",
       "      <td>32</td>\n",
       "      <td>22</td>\n",
       "      <td>1</td>\n",
       "    </tr>\n",
       "    <tr>\n",
       "      <th>2</th>\n",
       "      <td>47</td>\n",
       "      <td>25</td>\n",
       "      <td>50</td>\n",
       "      <td>41</td>\n",
       "      <td>3</td>\n",
       "    </tr>\n",
       "  </tbody>\n",
       "</table>\n",
       "</div>"
      ],
      "text/plain": [
       "   Yaş  Sıra No  Grup No  Kod  Emekliliğe Kalan Süre\n",
       "1   49       42       32   22                      1\n",
       "2   47       25       50   41                      3"
      ]
     },
     "execution_count": 23,
     "metadata": {},
     "output_type": "execute_result"
    }
   ],
   "source": [
    "dataFrame1"
   ]
  },
  {
   "cell_type": "code",
   "execution_count": null,
   "id": "a2b45723",
   "metadata": {},
   "outputs": [],
   "source": []
  }
 ],
 "metadata": {
  "kernelspec": {
   "display_name": "Python 3 (ipykernel)",
   "language": "python",
   "name": "python3"
  },
  "language_info": {
   "codemirror_mode": {
    "name": "ipython",
    "version": 3
   },
   "file_extension": ".py",
   "mimetype": "text/x-python",
   "name": "python",
   "nbconvert_exporter": "python",
   "pygments_lexer": "ipython3",
   "version": "3.9.7"
  }
 },
 "nbformat": 4,
 "nbformat_minor": 5
}
