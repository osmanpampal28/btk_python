{
 "cells": [
  {
   "cell_type": "markdown",
   "id": "03dbddb8",
   "metadata": {},
   "source": [
    "# Fonksiyonlar"
   ]
  },
  {
   "cell_type": "code",
   "execution_count": 1,
   "id": "e82dc45c",
   "metadata": {},
   "outputs": [
    {
     "name": "stdout",
     "output_type": "stream",
     "text": [
      "osman\n"
     ]
    }
   ],
   "source": [
    "name=\"osman\"\n",
    "print(name)"
   ]
  },
  {
   "cell_type": "code",
   "execution_count": 2,
   "id": "a6f71304",
   "metadata": {},
   "outputs": [
    {
     "name": "stdout",
     "output_type": "stream",
     "text": [
      "OSMAN\n"
     ]
    }
   ],
   "source": [
    "print(name.upper())"
   ]
  },
  {
   "cell_type": "code",
   "execution_count": 3,
   "id": "9334f87e",
   "metadata": {},
   "outputs": [],
   "source": [
    "def ilkFonksiyon():\n",
    "    print(\"ilk fonksiyon\")"
   ]
  },
  {
   "cell_type": "code",
   "execution_count": 4,
   "id": "c91c275b",
   "metadata": {},
   "outputs": [
    {
     "name": "stdout",
     "output_type": "stream",
     "text": [
      "ilk fonksiyon\n"
     ]
    }
   ],
   "source": [
    "ilkFonksiyon()"
   ]
  },
  {
   "cell_type": "markdown",
   "id": "54bfc14b",
   "metadata": {},
   "source": [
    "## input&return"
   ]
  },
  {
   "cell_type": "code",
   "execution_count": 5,
   "id": "3364e143",
   "metadata": {},
   "outputs": [],
   "source": [
    "def toplama(numara1,numara2):\n",
    "    return numara1+numara2"
   ]
  },
  {
   "cell_type": "code",
   "execution_count": 6,
   "id": "f9b7cbb0",
   "metadata": {},
   "outputs": [
    {
     "name": "stdout",
     "output_type": "stream",
     "text": [
      "30\n"
     ]
    }
   ],
   "source": [
    "sonuc1=toplama(10,20)\n",
    "print(sonuc1)"
   ]
  },
  {
   "cell_type": "markdown",
   "id": "2a92a25f",
   "metadata": {},
   "source": [
    "# args & kwargs"
   ]
  },
  {
   "cell_type": "code",
   "execution_count": 7,
   "id": "8990ab26",
   "metadata": {},
   "outputs": [
    {
     "name": "stdout",
     "output_type": "stream",
     "text": [
      "150\n"
     ]
    }
   ],
   "source": [
    "def yeniToplama(*args):\n",
    "    return sum(args)\n",
    "print(yeniToplama(10,20,30,40,50))"
   ]
  },
  {
   "cell_type": "code",
   "execution_count": 8,
   "id": "e9229597",
   "metadata": {},
   "outputs": [
    {
     "data": {
      "text/plain": [
       "{'muz': 100, 'elma': 200, 'ananas': 300}"
      ]
     },
     "execution_count": 8,
     "metadata": {},
     "output_type": "execute_result"
    }
   ],
   "source": [
    "def ornekFonksiyon(**kwargs):\n",
    "    return kwargs\n",
    "ornekFonksiyon(muz=100,elma=200,ananas=300)"
   ]
  },
  {
   "cell_type": "code",
   "execution_count": null,
   "id": "71bd9267",
   "metadata": {},
   "outputs": [],
   "source": [
    "type(ornekFonksiyon(muz=100,elma=200,ananas=300))"
   ]
  },
  {
   "cell_type": "code",
   "execution_count": 11,
   "id": "1ed9e8e3",
   "metadata": {},
   "outputs": [],
   "source": [
    "#ornekFonksiyon(20,30) bu şekilde hata veriyor. kwargs dict olmalı"
   ]
  },
  {
   "cell_type": "code",
   "execution_count": 14,
   "id": "604ec831",
   "metadata": {},
   "outputs": [],
   "source": [
    "def keyWordControl(**kwargs):\n",
    "    if \"atil\" in kwargs:\n",
    "        print(\"var\")\n",
    "    else:\n",
    "        print(\"yok\")"
   ]
  },
  {
   "cell_type": "code",
   "execution_count": 16,
   "id": "c8d07c22",
   "metadata": {},
   "outputs": [
    {
     "name": "stdout",
     "output_type": "stream",
     "text": [
      "var\n"
     ]
    }
   ],
   "source": [
    "keyWordControl(atil=40,osman=100,mahir=20)"
   ]
  },
  {
   "cell_type": "markdown",
   "id": "0e733475",
   "metadata": {},
   "source": [
    "## hazır fonksiyonlar "
   ]
  },
  {
   "cell_type": "code",
   "execution_count": 17,
   "id": "0a6381b8",
   "metadata": {},
   "outputs": [],
   "source": [
    "def bolme(numara):\n",
    "    return numara/2"
   ]
  },
  {
   "cell_type": "code",
   "execution_count": 18,
   "id": "24948314",
   "metadata": {},
   "outputs": [],
   "source": [
    "listem4=[1,2,3,4,5,6,7,8,9,10]"
   ]
  },
  {
   "cell_type": "code",
   "execution_count": 21,
   "id": "3f449d1b",
   "metadata": {},
   "outputs": [
    {
     "name": "stdout",
     "output_type": "stream",
     "text": [
      "[0.5, 1.0, 1.5, 2.0, 2.5, 3.0, 3.5, 4.0, 4.5, 5.0]\n"
     ]
    }
   ],
   "source": [
    "yenilistem4=[]\n",
    "for eleman in listem4:\n",
    "    yenilistem4.append(bolme(eleman))\n",
    "print(yenilistem4)"
   ]
  },
  {
   "cell_type": "code",
   "execution_count": 22,
   "id": "804d7c5c",
   "metadata": {},
   "outputs": [
    {
     "data": {
      "text/plain": [
       "[0.5, 1.0, 1.5, 2.0, 2.5, 3.0, 3.5, 4.0, 4.5, 5.0]"
      ]
     },
     "execution_count": 22,
     "metadata": {},
     "output_type": "execute_result"
    }
   ],
   "source": [
    "yenilistem4"
   ]
  },
  {
   "cell_type": "markdown",
   "id": "98c9aa02",
   "metadata": {},
   "source": [
    "## map"
   ]
  },
  {
   "cell_type": "code",
   "execution_count": 23,
   "id": "c0ba25a5",
   "metadata": {},
   "outputs": [
    {
     "data": {
      "text/plain": [
       "[0.5, 1.0, 1.5, 2.0, 2.5, 3.0, 3.5, 4.0, 4.5, 5.0]"
      ]
     },
     "execution_count": 23,
     "metadata": {},
     "output_type": "execute_result"
    }
   ],
   "source": [
    "list(map(bolme,listem4))"
   ]
  },
  {
   "cell_type": "code",
   "execution_count": 24,
   "id": "0f2ae330",
   "metadata": {},
   "outputs": [],
   "source": [
    "def kontrolFunc(string):\n",
    "    return \"a\" in string"
   ]
  },
  {
   "cell_type": "code",
   "execution_count": 25,
   "id": "54dacb19",
   "metadata": {},
   "outputs": [
    {
     "data": {
      "text/plain": [
       "True"
      ]
     },
     "execution_count": 25,
     "metadata": {},
     "output_type": "execute_result"
    }
   ],
   "source": [
    "kontrolFunc(\"atıl\")"
   ]
  },
  {
   "cell_type": "code",
   "execution_count": 26,
   "id": "939b4e86",
   "metadata": {},
   "outputs": [],
   "source": [
    "stringList=[\"atıl\",\"samancıoğlu\",\"atlas\",\"zeynep\",\"mehmet\",\"ahmet\",\"levent\"]"
   ]
  },
  {
   "cell_type": "code",
   "execution_count": 28,
   "id": "f694893f",
   "metadata": {},
   "outputs": [],
   "source": [
    "sonucList=list(map(kontrolFunc,stringList))"
   ]
  },
  {
   "cell_type": "code",
   "execution_count": 29,
   "id": "81d6dee6",
   "metadata": {},
   "outputs": [
    {
     "data": {
      "text/plain": [
       "[True, True, True, False, False, True, False]"
      ]
     },
     "execution_count": 29,
     "metadata": {},
     "output_type": "execute_result"
    }
   ],
   "source": [
    "sonucList"
   ]
  },
  {
   "cell_type": "code",
   "execution_count": 30,
   "id": "2a0fd6cf",
   "metadata": {},
   "outputs": [
    {
     "data": {
      "text/plain": [
       "4"
      ]
     },
     "execution_count": 30,
     "metadata": {},
     "output_type": "execute_result"
    }
   ],
   "source": [
    "sonucList.count(True)"
   ]
  },
  {
   "cell_type": "markdown",
   "id": "91d0ec5b",
   "metadata": {},
   "source": [
    "## Filter"
   ]
  },
  {
   "cell_type": "code",
   "execution_count": 31,
   "id": "796f145e",
   "metadata": {},
   "outputs": [
    {
     "data": {
      "text/plain": [
       "['atıl', 'samancıoğlu', 'atlas', 'ahmet']"
      ]
     },
     "execution_count": 31,
     "metadata": {},
     "output_type": "execute_result"
    }
   ],
   "source": [
    "list(filter(kontrolFunc,stringList))"
   ]
  },
  {
   "cell_type": "markdown",
   "id": "bf9e78d5",
   "metadata": {},
   "source": [
    "## Lambda"
   ]
  },
  {
   "cell_type": "code",
   "execution_count": 32,
   "id": "2311fcb9",
   "metadata": {},
   "outputs": [],
   "source": [
    "carpma=lambda numara:numara*3"
   ]
  },
  {
   "cell_type": "code",
   "execution_count": 34,
   "id": "92f246d2",
   "metadata": {},
   "outputs": [
    {
     "data": {
      "text/plain": [
       "9"
      ]
     },
     "execution_count": 34,
     "metadata": {},
     "output_type": "execute_result"
    }
   ],
   "source": [
    "carpma(3)"
   ]
  },
  {
   "cell_type": "code",
   "execution_count": 35,
   "id": "ab71f80a",
   "metadata": {},
   "outputs": [],
   "source": [
    "ornekListe4=[10,20,30]"
   ]
  },
  {
   "cell_type": "code",
   "execution_count": 36,
   "id": "d5ad8545",
   "metadata": {},
   "outputs": [
    {
     "data": {
      "text/plain": [
       "[40, 80, 120]"
      ]
     },
     "execution_count": 36,
     "metadata": {},
     "output_type": "execute_result"
    }
   ],
   "source": [
    "list(map(lambda numara:numara*4,ornekListe4))"
   ]
  },
  {
   "cell_type": "code",
   "execution_count": null,
   "id": "06045cc1",
   "metadata": {},
   "outputs": [],
   "source": []
  }
 ],
 "metadata": {
  "kernelspec": {
   "display_name": "Python 3 (ipykernel)",
   "language": "python",
   "name": "python3"
  },
  "language_info": {
   "codemirror_mode": {
    "name": "ipython",
    "version": 3
   },
   "file_extension": ".py",
   "mimetype": "text/x-python",
   "name": "python",
   "nbconvert_exporter": "python",
   "pygments_lexer": "ipython3",
   "version": "3.9.7"
  }
 },
 "nbformat": 4,
 "nbformat_minor": 5
}
