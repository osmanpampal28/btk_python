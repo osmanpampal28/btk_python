{
 "cells": [
  {
   "cell_type": "markdown",
   "id": "657e726e",
   "metadata": {},
   "source": [
    "## Önemli Methodlar"
   ]
  },
  {
   "cell_type": "markdown",
   "id": "472cacb0",
   "metadata": {},
   "source": [
    "# Range"
   ]
  },
  {
   "cell_type": "code",
   "execution_count": 1,
   "id": "ee2737ea",
   "metadata": {},
   "outputs": [
    {
     "data": {
      "text/plain": [
       "[0, 1, 2, 3, 4, 5, 6, 7, 8, 9]"
      ]
     },
     "execution_count": 1,
     "metadata": {},
     "output_type": "execute_result"
    }
   ],
   "source": [
    "list(range(10))"
   ]
  },
  {
   "cell_type": "code",
   "execution_count": 2,
   "id": "9d5bd61b",
   "metadata": {},
   "outputs": [
    {
     "name": "stdout",
     "output_type": "stream",
     "text": [
      "0\n",
      "5\n",
      "10\n",
      "15\n",
      "20\n"
     ]
    }
   ],
   "source": [
    "for numara in list(range(5)):\n",
    "    print(numara*5)"
   ]
  },
  {
   "cell_type": "code",
   "execution_count": 3,
   "id": "f4ade769",
   "metadata": {},
   "outputs": [
    {
     "data": {
      "text/plain": [
       "[2, 3, 4]"
      ]
     },
     "execution_count": 3,
     "metadata": {},
     "output_type": "execute_result"
    }
   ],
   "source": [
    "list(range(2,5))"
   ]
  },
  {
   "cell_type": "code",
   "execution_count": 4,
   "id": "9a5f45e5",
   "metadata": {},
   "outputs": [
    {
     "data": {
      "text/plain": [
       "[2, 5, 8]"
      ]
     },
     "execution_count": 4,
     "metadata": {},
     "output_type": "execute_result"
    }
   ],
   "source": [
    "list(range(2,10,3))"
   ]
  },
  {
   "cell_type": "markdown",
   "id": "542ab41e",
   "metadata": {},
   "source": [
    "# enumerate"
   ]
  },
  {
   "cell_type": "code",
   "execution_count": 5,
   "id": "a3b12b83",
   "metadata": {},
   "outputs": [
    {
     "name": "stdout",
     "output_type": "stream",
     "text": [
      "güncel numara: 5 güncel index: 0\n",
      "güncel numara: 6 güncel index: 1\n",
      "güncel numara: 7 güncel index: 2\n",
      "güncel numara: 8 güncel index: 3\n",
      "güncel numara: 9 güncel index: 4\n",
      "güncel numara: 10 güncel index: 5\n",
      "güncel numara: 11 güncel index: 6\n",
      "güncel numara: 12 güncel index: 7\n",
      "güncel numara: 13 güncel index: 8\n",
      "güncel numara: 14 güncel index: 9\n"
     ]
    }
   ],
   "source": [
    "index=0\n",
    "for numara in list(range(5,15)):\n",
    "    print(f\"güncel numara: {numara} güncel index: {index}\")\n",
    "    index+=1"
   ]
  },
  {
   "cell_type": "code",
   "execution_count": 6,
   "id": "c07214b5",
   "metadata": {},
   "outputs": [
    {
     "name": "stdout",
     "output_type": "stream",
     "text": [
      "(0, 5)\n",
      "(1, 6)\n",
      "(2, 7)\n",
      "(3, 8)\n",
      "(4, 9)\n",
      "(5, 10)\n",
      "(6, 11)\n",
      "(7, 12)\n",
      "(8, 13)\n",
      "(9, 14)\n"
     ]
    }
   ],
   "source": [
    "for eleman in enumerate(list(range(5,15))):\n",
    "    print(eleman)"
   ]
  },
  {
   "cell_type": "code",
   "execution_count": 7,
   "id": "33567a96",
   "metadata": {},
   "outputs": [
    {
     "name": "stdout",
     "output_type": "stream",
     "text": [
      "5\n",
      "6\n",
      "7\n",
      "8\n",
      "9\n",
      "10\n",
      "11\n",
      "12\n",
      "13\n",
      "14\n"
     ]
    }
   ],
   "source": [
    "for (index1,numara) in enumerate(list(range(5,15))):\n",
    "    print(numara)"
   ]
  },
  {
   "cell_type": "markdown",
   "id": "507bc45c",
   "metadata": {},
   "source": [
    "# random"
   ]
  },
  {
   "cell_type": "code",
   "execution_count": 9,
   "id": "e6dcc7c7",
   "metadata": {},
   "outputs": [
    {
     "ename": "SyntaxError",
     "evalue": "invalid syntax (Temp/ipykernel_7928/283206913.py, line 1)",
     "output_type": "error",
     "traceback": [
      "\u001b[1;36m  File \u001b[1;32m\"C:\\Users\\OSMANP~1\\AppData\\Local\\Temp/ipykernel_7928/283206913.py\"\u001b[1;36m, line \u001b[1;32m1\u001b[0m\n\u001b[1;33m    from random in randint\u001b[0m\n\u001b[1;37m                ^\u001b[0m\n\u001b[1;31mSyntaxError\u001b[0m\u001b[1;31m:\u001b[0m invalid syntax\n"
     ]
    }
   ],
   "source": [
    "from random in randint"
   ]
  },
  {
   "cell_type": "code",
   "execution_count": 10,
   "id": "0adbef2b",
   "metadata": {},
   "outputs": [],
   "source": [
    "from random import randint"
   ]
  },
  {
   "cell_type": "code",
   "execution_count": 13,
   "id": "33e3fcfb",
   "metadata": {},
   "outputs": [
    {
     "data": {
      "text/plain": [
       "12"
      ]
     },
     "execution_count": 13,
     "metadata": {},
     "output_type": "execute_result"
    }
   ],
   "source": [
    "randint(0,15)"
   ]
  },
  {
   "cell_type": "code",
   "execution_count": 14,
   "id": "1b2a2d43",
   "metadata": {},
   "outputs": [
    {
     "data": {
      "text/plain": [
       "7"
      ]
     },
     "execution_count": 14,
     "metadata": {},
     "output_type": "execute_result"
    }
   ],
   "source": [
    "randint(0,100)"
   ]
  },
  {
   "cell_type": "code",
   "execution_count": 15,
   "id": "547d1b15",
   "metadata": {},
   "outputs": [],
   "source": [
    "yeniListe=[1,2,3,4,5,6,7,8,9,0]"
   ]
  },
  {
   "cell_type": "code",
   "execution_count": 16,
   "id": "f0f182f1",
   "metadata": {},
   "outputs": [],
   "source": [
    "from random import shuffle"
   ]
  },
  {
   "cell_type": "code",
   "execution_count": 17,
   "id": "c386e739",
   "metadata": {},
   "outputs": [],
   "source": [
    "shuffle(yeniListe)"
   ]
  },
  {
   "cell_type": "code",
   "execution_count": 18,
   "id": "fd66a0a4",
   "metadata": {},
   "outputs": [
    {
     "name": "stdout",
     "output_type": "stream",
     "text": [
      "[7, 5, 2, 8, 0, 4, 1, 3, 6, 9]\n"
     ]
    }
   ],
   "source": [
    "print(yeniListe)"
   ]
  },
  {
   "cell_type": "markdown",
   "id": "02f39f36",
   "metadata": {},
   "source": [
    "# zip"
   ]
  },
  {
   "cell_type": "code",
   "execution_count": 19,
   "id": "dca3725d",
   "metadata": {},
   "outputs": [],
   "source": [
    "yemek=[\"muz\",\"ananas\",\"elma\"]\n",
    "kalori=[100,200,300]"
   ]
  },
  {
   "cell_type": "code",
   "execution_count": 29,
   "id": "c359d714",
   "metadata": {},
   "outputs": [],
   "source": [
    "gun=[\"pazartesi\",\"sali\",\"perşembe\"]"
   ]
  },
  {
   "cell_type": "code",
   "execution_count": 30,
   "id": "287a4f02",
   "metadata": {},
   "outputs": [],
   "source": [
    "ziplenmisListe=list(zip(yemek,kalori,gun))"
   ]
  },
  {
   "cell_type": "code",
   "execution_count": 31,
   "id": "215c322d",
   "metadata": {},
   "outputs": [
    {
     "name": "stdout",
     "output_type": "stream",
     "text": [
      "[('muz', 100, 'pazartesi'), ('ananas', 200, 'sali'), ('elma', 300, 'perşembe')]\n"
     ]
    }
   ],
   "source": [
    "print(ziplenmisListe)"
   ]
  },
  {
   "cell_type": "code",
   "execution_count": 32,
   "id": "bf946cdc",
   "metadata": {},
   "outputs": [
    {
     "name": "stdout",
     "output_type": "stream",
     "text": [
      "[('muz', 100, 'pazartesi'), ('ananas', 200, 'sali'), ('elma', 300, 'perşembe')]\n"
     ]
    }
   ],
   "source": [
    "print(ziplenmisListe)"
   ]
  },
  {
   "cell_type": "code",
   "execution_count": 33,
   "id": "8bdca567",
   "metadata": {},
   "outputs": [
    {
     "data": {
      "text/plain": [
       "[('muz', 100, 'pazartesi'), ('ananas', 200, 'sali'), ('elma', 300, 'perşembe')]"
      ]
     },
     "execution_count": 33,
     "metadata": {},
     "output_type": "execute_result"
    }
   ],
   "source": [
    "ziplenmisListe"
   ]
  },
  {
   "cell_type": "markdown",
   "id": "62c4ce94",
   "metadata": {},
   "source": [
    "# listeler ileri seviye"
   ]
  },
  {
   "cell_type": "code",
   "execution_count": 34,
   "id": "1203ba4c",
   "metadata": {},
   "outputs": [],
   "source": [
    "ornekListe1=[]"
   ]
  },
  {
   "cell_type": "code",
   "execution_count": 35,
   "id": "5d0a7ec2",
   "metadata": {},
   "outputs": [
    {
     "name": "stdout",
     "output_type": "stream",
     "text": [
      "['o', 's', 'm', 'a', 'n']\n"
     ]
    }
   ],
   "source": [
    "benimStr=\"osman\"\n",
    "for harf in benimStr:\n",
    "    ornekListe1.append(harf)\n",
    "print(ornekListe1)"
   ]
  },
  {
   "cell_type": "code",
   "execution_count": 36,
   "id": "f7aa6b46",
   "metadata": {},
   "outputs": [],
   "source": [
    "yeniListe3=[eleman for eleman in benimStr]"
   ]
  },
  {
   "cell_type": "code",
   "execution_count": 37,
   "id": "d0faa3d8",
   "metadata": {},
   "outputs": [
    {
     "name": "stdout",
     "output_type": "stream",
     "text": [
      "['o', 's', 'm', 'a', 'n']\n"
     ]
    }
   ],
   "source": [
    "print(yeniListe3)"
   ]
  },
  {
   "cell_type": "code",
   "execution_count": 38,
   "id": "fa74d8a7",
   "metadata": {},
   "outputs": [],
   "source": [
    "yeniListe4=[numara**2 for numara in range(0,10)]"
   ]
  },
  {
   "cell_type": "code",
   "execution_count": 39,
   "id": "69630561",
   "metadata": {},
   "outputs": [
    {
     "name": "stdout",
     "output_type": "stream",
     "text": [
      "[0, 1, 4, 9, 16, 25, 36, 49, 64, 81]\n"
     ]
    }
   ],
   "source": [
    "print(yeniListe4)"
   ]
  },
  {
   "cell_type": "code",
   "execution_count": 41,
   "id": "93b38d1f",
   "metadata": {},
   "outputs": [],
   "source": [
    "yeniListe4=[numara**3 for numara in range(10)]"
   ]
  },
  {
   "cell_type": "code",
   "execution_count": 42,
   "id": "2e97aaeb",
   "metadata": {},
   "outputs": [
    {
     "name": "stdout",
     "output_type": "stream",
     "text": [
      "[0, 1, 8, 27, 64, 125, 216, 343, 512, 729]\n"
     ]
    }
   ],
   "source": [
    "print(yeniListe4)"
   ]
  },
  {
   "cell_type": "code",
   "execution_count": null,
   "id": "892c3263",
   "metadata": {},
   "outputs": [],
   "source": []
  }
 ],
 "metadata": {
  "kernelspec": {
   "display_name": "Python 3 (ipykernel)",
   "language": "python",
   "name": "python3"
  },
  "language_info": {
   "codemirror_mode": {
    "name": "ipython",
    "version": 3
   },
   "file_extension": ".py",
   "mimetype": "text/x-python",
   "name": "python",
   "nbconvert_exporter": "python",
   "pygments_lexer": "ipython3",
   "version": "3.9.7"
  }
 },
 "nbformat": 4,
 "nbformat_minor": 5
}
