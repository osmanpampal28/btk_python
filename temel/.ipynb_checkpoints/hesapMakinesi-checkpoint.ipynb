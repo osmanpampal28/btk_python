{
 "cells": [
  {
   "cell_type": "code",
   "execution_count": 1,
   "id": "3f0b4a08",
   "metadata": {},
   "outputs": [],
   "source": [
    "def toplama(numara1,numara2):\n",
    "    return numara1+numara2"
   ]
  },
  {
   "cell_type": "code",
   "execution_count": 2,
   "id": "3a527635",
   "metadata": {},
   "outputs": [],
   "source": [
    "def cikarma(numara1,numara2):\n",
    "    return numara1-numara2"
   ]
  },
  {
   "cell_type": "code",
   "execution_count": 3,
   "id": "b378756f",
   "metadata": {},
   "outputs": [],
   "source": [
    "def carpma(numara1,numara2):\n",
    "    return numara1*numara2"
   ]
  },
  {
   "cell_type": "code",
   "execution_count": 4,
   "id": "ee23e2f6",
   "metadata": {},
   "outputs": [],
   "source": [
    "def bolme(numara1,numara2):\n",
    "    return numara1/numara2"
   ]
  },
  {
   "cell_type": "code",
   "execution_count": 14,
   "id": "c6894b6a",
   "metadata": {},
   "outputs": [
    {
     "name": "stdout",
     "output_type": "stream",
     "text": [
      "hangi işlemi yapmak istiyorsunuz?:(+,-,*,/) +\n",
      "birinci sayıyı giriniz: 12\n",
      "ikinci sayıyı giriniz: 24\n"
     ]
    }
   ],
   "source": [
    "girdi=input(\"hangi işlemi yapmak istiyorsunuz?:(+,-,*,/) \")\n",
    "sayi1=int(input(\"birinci sayıyı giriniz: \"))\n",
    "sayi2=int(input(\"ikinci sayıyı giriniz: \"))"
   ]
  },
  {
   "cell_type": "code",
   "execution_count": 16,
   "id": "938a0126",
   "metadata": {},
   "outputs": [
    {
     "name": "stdout",
     "output_type": "stream",
     "text": [
      "36\n"
     ]
    }
   ],
   "source": [
    "if(girdi=='+'):\n",
    "    print(toplama(sayi1,sayi2))\n",
    "elif(girdi=='-'):\n",
    "    print(cikarma(sayi1,sayi2))\n",
    "elif(girdi=='*'):\n",
    "    print(carpma(sayi1,sayi2))\n",
    "elif(girdi=='/'):\n",
    "    print(bolme(sayi1,sayi2))\n",
    "else:\n",
    "    print(\"hatalı işlem\")"
   ]
  },
  {
   "cell_type": "code",
   "execution_count": null,
   "id": "35a070be",
   "metadata": {},
   "outputs": [],
   "source": []
  },
  {
   "cell_type": "code",
   "execution_count": null,
   "id": "8e0d7202",
   "metadata": {},
   "outputs": [],
   "source": []
  }
 ],
 "metadata": {
  "kernelspec": {
   "display_name": "Python 3 (ipykernel)",
   "language": "python",
   "name": "python3"
  },
  "language_info": {
   "codemirror_mode": {
    "name": "ipython",
    "version": 3
   },
   "file_extension": ".py",
   "mimetype": "text/x-python",
   "name": "python",
   "nbconvert_exporter": "python",
   "pygments_lexer": "ipython3",
   "version": "3.9.7"
  }
 },
 "nbformat": 4,
 "nbformat_minor": 5
}
