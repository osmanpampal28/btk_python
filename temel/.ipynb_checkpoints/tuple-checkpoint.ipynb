{
 "cells": [
  {
   "cell_type": "markdown",
   "id": "83cd078a",
   "metadata": {},
   "source": [
    "# ##tuple"
   ]
  },
  {
   "cell_type": "code",
   "execution_count": null,
   "id": "5eb88d78",
   "metadata": {},
   "outputs": [],
   "source": [
    "tuple1=(1,2,'a',4.5)"
   ]
  },
  {
   "cell_type": "code",
   "execution_count": 2,
   "id": "a6c02aac",
   "metadata": {},
   "outputs": [
    {
     "name": "stdout",
     "output_type": "stream",
     "text": [
      "(1, 2, 'a', 4.5)\n"
     ]
    }
   ],
   "source": [
    "print(tuple1)"
   ]
  },
  {
   "cell_type": "code",
   "execution_count": 3,
   "id": "f16c65f9",
   "metadata": {},
   "outputs": [
    {
     "data": {
      "text/plain": [
       "2"
      ]
     },
     "execution_count": 3,
     "metadata": {},
     "output_type": "execute_result"
    }
   ],
   "source": [
    "tuple1[1]"
   ]
  },
  {
   "cell_type": "code",
   "execution_count": 5,
   "id": "af52c2e1",
   "metadata": {},
   "outputs": [],
   "source": [
    "#tuple1[2]=b       tuple içi değişmez"
   ]
  },
  {
   "cell_type": "markdown",
   "id": "7abb2168",
   "metadata": {},
   "source": [
    "# Tuple içi değişmez"
   ]
  },
  {
   "cell_type": "code",
   "execution_count": 9,
   "id": "6e78d6f6",
   "metadata": {},
   "outputs": [
    {
     "data": {
      "text/plain": [
       "1"
      ]
     },
     "execution_count": 9,
     "metadata": {},
     "output_type": "execute_result"
    }
   ],
   "source": [
    "tuple1.count(\"a\")"
   ]
  },
  {
   "cell_type": "code",
   "execution_count": 10,
   "id": "bfc248f4",
   "metadata": {},
   "outputs": [
    {
     "data": {
      "text/plain": [
       "3"
      ]
     },
     "execution_count": 10,
     "metadata": {},
     "output_type": "execute_result"
    }
   ],
   "source": [
    "tuple1.index(4.5)"
   ]
  },
  {
   "cell_type": "code",
   "execution_count": null,
   "id": "cacaf103",
   "metadata": {},
   "outputs": [],
   "source": []
  }
 ],
 "metadata": {
  "kernelspec": {
   "display_name": "Python 3 (ipykernel)",
   "language": "python",
   "name": "python3"
  },
  "language_info": {
   "codemirror_mode": {
    "name": "ipython",
    "version": 3
   },
   "file_extension": ".py",
   "mimetype": "text/x-python",
   "name": "python",
   "nbconvert_exporter": "python",
   "pygments_lexer": "ipython3",
   "version": "3.9.7"
  }
 },
 "nbformat": 4,
 "nbformat_minor": 5
}
