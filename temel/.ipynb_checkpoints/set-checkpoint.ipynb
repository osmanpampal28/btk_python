{
 "cells": [
  {
   "cell_type": "markdown",
   "id": "a552b626",
   "metadata": {},
   "source": [
    "# ##04 Set"
   ]
  },
  {
   "cell_type": "code",
   "execution_count": 1,
   "id": "9b0d3336",
   "metadata": {},
   "outputs": [],
   "source": [
    "liste=[1,2,3,1,2,3]"
   ]
  },
  {
   "cell_type": "code",
   "execution_count": 2,
   "id": "684c82a1",
   "metadata": {},
   "outputs": [
    {
     "data": {
      "text/plain": [
       "[1, 2, 3, 1, 2, 3]"
      ]
     },
     "execution_count": 2,
     "metadata": {},
     "output_type": "execute_result"
    }
   ],
   "source": [
    "liste"
   ]
  },
  {
   "cell_type": "code",
   "execution_count": 3,
   "id": "21916a4e",
   "metadata": {},
   "outputs": [],
   "source": [
    "set1=set(liste)"
   ]
  },
  {
   "cell_type": "code",
   "execution_count": 4,
   "id": "9de923e0",
   "metadata": {},
   "outputs": [
    {
     "data": {
      "text/plain": [
       "{1, 2, 3}"
      ]
     },
     "execution_count": 4,
     "metadata": {},
     "output_type": "execute_result"
    }
   ],
   "source": [
    "set1"
   ]
  },
  {
   "cell_type": "code",
   "execution_count": 5,
   "id": "9c4a830b",
   "metadata": {},
   "outputs": [
    {
     "data": {
      "text/plain": [
       "list"
      ]
     },
     "execution_count": 5,
     "metadata": {},
     "output_type": "execute_result"
    }
   ],
   "source": [
    "type(liste)"
   ]
  },
  {
   "cell_type": "code",
   "execution_count": 6,
   "id": "c29c0326",
   "metadata": {},
   "outputs": [
    {
     "data": {
      "text/plain": [
       "set"
      ]
     },
     "execution_count": 6,
     "metadata": {},
     "output_type": "execute_result"
    }
   ],
   "source": [
    "type(set1)"
   ]
  },
  {
   "cell_type": "markdown",
   "id": "50c48631",
   "metadata": {},
   "source": [
    "# setlerde aynı değişken (değer) olmaz"
   ]
  },
  {
   "cell_type": "markdown",
   "id": "7fbf1a3d",
   "metadata": {},
   "source": [
    "# set oluştururken dikkat edilmeli set() diye oluşturulmalı. Diğer türlü dictionary ile karıştırılabilir."
   ]
  },
  {
   "cell_type": "code",
   "execution_count": 7,
   "id": "7c5c4544",
   "metadata": {},
   "outputs": [],
   "source": [
    "bosSet=set()"
   ]
  },
  {
   "cell_type": "code",
   "execution_count": 8,
   "id": "c1d9e769",
   "metadata": {},
   "outputs": [],
   "source": [
    "bosSet.add(10)"
   ]
  },
  {
   "cell_type": "code",
   "execution_count": 9,
   "id": "f8ad32af",
   "metadata": {},
   "outputs": [
    {
     "data": {
      "text/plain": [
       "{10}"
      ]
     },
     "execution_count": 9,
     "metadata": {},
     "output_type": "execute_result"
    }
   ],
   "source": [
    "bosSet"
   ]
  },
  {
   "cell_type": "code",
   "execution_count": null,
   "id": "a714ed35",
   "metadata": {},
   "outputs": [],
   "source": []
  }
 ],
 "metadata": {
  "kernelspec": {
   "display_name": "Python 3 (ipykernel)",
   "language": "python",
   "name": "python3"
  },
  "language_info": {
   "codemirror_mode": {
    "name": "ipython",
    "version": 3
   },
   "file_extension": ".py",
   "mimetype": "text/x-python",
   "name": "python",
   "nbconvert_exporter": "python",
   "pygments_lexer": "ipython3",
   "version": "3.9.7"
  }
 },
 "nbformat": 4,
 "nbformat_minor": 5
}
