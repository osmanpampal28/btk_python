{
 "cells": [
  {
   "cell_type": "markdown",
   "id": "b2ddfa19",
   "metadata": {},
   "source": [
    "# For Döngüsü"
   ]
  },
  {
   "cell_type": "code",
   "execution_count": 1,
   "id": "0f0c0954",
   "metadata": {},
   "outputs": [],
   "source": [
    "listem=[10,20,30,40,50]"
   ]
  },
  {
   "cell_type": "code",
   "execution_count": 2,
   "id": "9d0d73f5",
   "metadata": {},
   "outputs": [
    {
     "name": "stdout",
     "output_type": "stream",
     "text": [
      "10\n",
      "20\n",
      "30\n",
      "40\n",
      "50\n"
     ]
    }
   ],
   "source": [
    "for numara in listem:\n",
    "    print(numara)"
   ]
  },
  {
   "cell_type": "code",
   "execution_count": 3,
   "id": "a9ab78ef",
   "metadata": {},
   "outputs": [],
   "source": [
    "yeniListem=[1,2,3,4,5,6]"
   ]
  },
  {
   "cell_type": "code",
   "execution_count": 4,
   "id": "f0f51a1d",
   "metadata": {},
   "outputs": [
    {
     "name": "stdout",
     "output_type": "stream",
     "text": [
      "2\n",
      "4\n",
      "6\n"
     ]
    }
   ],
   "source": [
    "for rakam in yeniListem:\n",
    "    if rakam%2==0:\n",
    "        print(rakam)"
   ]
  },
  {
   "cell_type": "code",
   "execution_count": 5,
   "id": "5ca0b6a5",
   "metadata": {},
   "outputs": [],
   "source": [
    "string1=\"Osman\""
   ]
  },
  {
   "cell_type": "code",
   "execution_count": 6,
   "id": "9f74e605",
   "metadata": {},
   "outputs": [
    {
     "name": "stdout",
     "output_type": "stream",
     "text": [
      "O\n",
      "s\n",
      "m\n",
      "a\n",
      "n\n"
     ]
    }
   ],
   "source": [
    "for harf in string1:\n",
    "    print(harf)"
   ]
  },
  {
   "cell_type": "code",
   "execution_count": 8,
   "id": "10ef82f1",
   "metadata": {},
   "outputs": [],
   "source": [
    "koordinat=[(10,4),(35,6),(34,6)]"
   ]
  },
  {
   "cell_type": "code",
   "execution_count": 9,
   "id": "68b87ea7",
   "metadata": {},
   "outputs": [
    {
     "data": {
      "text/plain": [
       "list"
      ]
     },
     "execution_count": 9,
     "metadata": {},
     "output_type": "execute_result"
    }
   ],
   "source": [
    "type(koordinat)"
   ]
  },
  {
   "cell_type": "code",
   "execution_count": 10,
   "id": "e4f5d0f0",
   "metadata": {},
   "outputs": [
    {
     "data": {
      "text/plain": [
       "tuple"
      ]
     },
     "execution_count": 10,
     "metadata": {},
     "output_type": "execute_result"
    }
   ],
   "source": [
    "type(koordinat[0])"
   ]
  },
  {
   "cell_type": "code",
   "execution_count": 11,
   "id": "79b8cd87",
   "metadata": {},
   "outputs": [
    {
     "name": "stdout",
     "output_type": "stream",
     "text": [
      "(10, 4)\n",
      "(35, 6)\n",
      "(34, 6)\n"
     ]
    }
   ],
   "source": [
    "for eleman in koordinat:\n",
    "    print(eleman)"
   ]
  },
  {
   "cell_type": "code",
   "execution_count": 12,
   "id": "065da390",
   "metadata": {},
   "outputs": [
    {
     "name": "stdout",
     "output_type": "stream",
     "text": [
      "10\n",
      "35\n",
      "34\n"
     ]
    }
   ],
   "source": [
    "for (x,y) in koordinat:\n",
    "    print(x)"
   ]
  },
  {
   "cell_type": "code",
   "execution_count": 13,
   "id": "97e45bab",
   "metadata": {},
   "outputs": [],
   "source": [
    "sozluk={\n",
    "    \"muz\":150,\n",
    "    \"elma\":100,\n",
    "    \"karpuz\":500\n",
    "}"
   ]
  },
  {
   "cell_type": "code",
   "execution_count": 14,
   "id": "a513f5fc",
   "metadata": {},
   "outputs": [
    {
     "data": {
      "text/plain": [
       "dict_items([('muz', 150), ('elma', 100), ('karpuz', 500)])"
      ]
     },
     "execution_count": 14,
     "metadata": {},
     "output_type": "execute_result"
    }
   ],
   "source": [
    "sozluk.items()"
   ]
  },
  {
   "cell_type": "code",
   "execution_count": 15,
   "id": "ed102f84",
   "metadata": {},
   "outputs": [
    {
     "data": {
      "text/plain": [
       "dict_items"
      ]
     },
     "execution_count": 15,
     "metadata": {},
     "output_type": "execute_result"
    }
   ],
   "source": [
    "type(sozluk.items())"
   ]
  },
  {
   "cell_type": "code",
   "execution_count": 17,
   "id": "891afa94",
   "metadata": {},
   "outputs": [
    {
     "name": "stdout",
     "output_type": "stream",
     "text": [
      "muz\n",
      "elma\n",
      "karpuz\n"
     ]
    }
   ],
   "source": [
    "for (anahtar,deger) in sozluk.items():\n",
    "    print(anahtar)"
   ]
  },
  {
   "cell_type": "markdown",
   "id": "966aa491",
   "metadata": {},
   "source": [
    "# Continue Break "
   ]
  },
  {
   "cell_type": "code",
   "execution_count": 21,
   "id": "5ea20879",
   "metadata": {},
   "outputs": [
    {
     "name": "stdout",
     "output_type": "stream",
     "text": [
      "10\n",
      "20\n",
      "30\n"
     ]
    }
   ],
   "source": [
    "for numara in listem:\n",
    "    if(numara==40):\n",
    "        break\n",
    "    print(numara)"
   ]
  },
  {
   "cell_type": "code",
   "execution_count": 23,
   "id": "bb36d7ee",
   "metadata": {},
   "outputs": [
    {
     "name": "stdout",
     "output_type": "stream",
     "text": [
      "10\n",
      "20\n",
      "30\n",
      "50\n"
     ]
    }
   ],
   "source": [
    "for numara in listem:\n",
    "    if(numara==40):\n",
    "        continue\n",
    "    print(numara)"
   ]
  },
  {
   "cell_type": "code",
   "execution_count": 24,
   "id": "65fef507",
   "metadata": {},
   "outputs": [],
   "source": [
    "for numara in listem:\n",
    "    pass"
   ]
  },
  {
   "cell_type": "markdown",
   "id": "56412ece",
   "metadata": {},
   "source": [
    "# While Döngüsü"
   ]
  },
  {
   "cell_type": "code",
   "execution_count": 26,
   "id": "7afca4d6",
   "metadata": {},
   "outputs": [
    {
     "name": "stdout",
     "output_type": "stream",
     "text": [
      "0\n",
      "1\n",
      "2\n",
      "3\n",
      "4\n",
      "5\n",
      "6\n",
      "7\n",
      "8\n",
      "9\n"
     ]
    }
   ],
   "source": [
    "x=0\n",
    "while x<10:\n",
    "    print(x)\n",
    "    x+=1"
   ]
  },
  {
   "cell_type": "code",
   "execution_count": 27,
   "id": "859d9b6d",
   "metadata": {},
   "outputs": [],
   "source": [
    "listem3=[1,2,3,4,5]"
   ]
  },
  {
   "cell_type": "code",
   "execution_count": 30,
   "id": "2155baee",
   "metadata": {},
   "outputs": [
    {
     "name": "stdout",
     "output_type": "stream",
     "text": [
      "3 sayısı hâlâ liste içerisinde\n",
      "3 sayısı hâlâ liste içerisinde\n",
      "3 sayısı hâlâ liste içerisinde\n"
     ]
    }
   ],
   "source": [
    "while 3 in listem3:\n",
    "    print(\"3 sayısı hâlâ liste içerisinde\")\n",
    "    listem3.pop()"
   ]
  },
  {
   "cell_type": "code",
   "execution_count": null,
   "id": "cdbfc181",
   "metadata": {},
   "outputs": [],
   "source": []
  }
 ],
 "metadata": {
  "kernelspec": {
   "display_name": "Python 3 (ipykernel)",
   "language": "python",
   "name": "python3"
  },
  "language_info": {
   "codemirror_mode": {
    "name": "ipython",
    "version": 3
   },
   "file_extension": ".py",
   "mimetype": "text/x-python",
   "name": "python",
   "nbconvert_exporter": "python",
   "pygments_lexer": "ipython3",
   "version": "3.9.7"
  }
 },
 "nbformat": 4,
 "nbformat_minor": 5
}
