{
 "cells": [
  {
   "cell_type": "markdown",
   "id": "5187242c",
   "metadata": {},
   "source": [
    "# ##Dictionary"
   ]
  },
  {
   "cell_type": "code",
   "execution_count": 1,
   "id": "6ef74f30",
   "metadata": {},
   "outputs": [],
   "source": [
    "yeniDictinioary={\"anahtar1\":100, \"anahtar2\":[10,20,30,40,4.5,\"atıl\"],\"anahtar3\":{\"anahtar9\":4}}"
   ]
  },
  {
   "cell_type": "code",
   "execution_count": 2,
   "id": "a14ab5f7",
   "metadata": {},
   "outputs": [
    {
     "name": "stdout",
     "output_type": "stream",
     "text": [
      "[10, 20, 30, 40, 4.5, 'atıl']\n"
     ]
    }
   ],
   "source": [
    "print(yeniDictinioary[\"anahtar2\"])"
   ]
  },
  {
   "cell_type": "code",
   "execution_count": 3,
   "id": "0b1b05c8",
   "metadata": {},
   "outputs": [
    {
     "name": "stdout",
     "output_type": "stream",
     "text": [
      "atıl\n"
     ]
    }
   ],
   "source": [
    "print(yeniDictinioary[\"anahtar2\"][-1])"
   ]
  },
  {
   "cell_type": "code",
   "execution_count": 4,
   "id": "f450d168",
   "metadata": {},
   "outputs": [
    {
     "name": "stdout",
     "output_type": "stream",
     "text": [
      "4\n"
     ]
    }
   ],
   "source": [
    "print(yeniDictinioary[\"anahtar3\"][\"anahtar9\"])"
   ]
  },
  {
   "cell_type": "code",
   "execution_count": 5,
   "id": "fffa113f",
   "metadata": {},
   "outputs": [],
   "source": [
    "bosDict=dict()"
   ]
  },
  {
   "cell_type": "code",
   "execution_count": 6,
   "id": "30ecb9c8",
   "metadata": {},
   "outputs": [
    {
     "data": {
      "text/plain": [
       "{}"
      ]
     },
     "execution_count": 6,
     "metadata": {},
     "output_type": "execute_result"
    }
   ],
   "source": [
    "bosDict"
   ]
  },
  {
   "cell_type": "code",
   "execution_count": 7,
   "id": "1a869c96",
   "metadata": {},
   "outputs": [],
   "source": [
    "bosDict[\"key\"]=3234"
   ]
  },
  {
   "cell_type": "code",
   "execution_count": 8,
   "id": "81a30503",
   "metadata": {},
   "outputs": [
    {
     "name": "stdout",
     "output_type": "stream",
     "text": [
      "{'key': 3234}\n"
     ]
    }
   ],
   "source": [
    "print(bosDict)"
   ]
  },
  {
   "cell_type": "code",
   "execution_count": 9,
   "id": "04a7e27c",
   "metadata": {},
   "outputs": [
    {
     "data": {
      "text/plain": [
       "dict_keys(['key'])"
      ]
     },
     "execution_count": 9,
     "metadata": {},
     "output_type": "execute_result"
    }
   ],
   "source": [
    "bosDict.keys()"
   ]
  },
  {
   "cell_type": "code",
   "execution_count": 10,
   "id": "6c2db58b",
   "metadata": {},
   "outputs": [
    {
     "data": {
      "text/plain": [
       "dict_values([3234])"
      ]
     },
     "execution_count": 10,
     "metadata": {},
     "output_type": "execute_result"
    }
   ],
   "source": [
    "bosDict.values()"
   ]
  },
  {
   "cell_type": "code",
   "execution_count": null,
   "id": "1314deef",
   "metadata": {},
   "outputs": [],
   "source": []
  }
 ],
 "metadata": {
  "kernelspec": {
   "display_name": "Python 3 (ipykernel)",
   "language": "python",
   "name": "python3"
  },
  "language_info": {
   "codemirror_mode": {
    "name": "ipython",
    "version": 3
   },
   "file_extension": ".py",
   "mimetype": "text/x-python",
   "name": "python",
   "nbconvert_exporter": "python",
   "pygments_lexer": "ipython3",
   "version": "3.9.7"
  }
 },
 "nbformat": 4,
 "nbformat_minor": 5
}
