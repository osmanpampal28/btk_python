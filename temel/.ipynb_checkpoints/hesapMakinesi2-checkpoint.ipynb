{
 "cells": [
  {
   "cell_type": "code",
   "execution_count": null,
   "id": "16a61a5b",
   "metadata": {},
   "outputs": [
    {
     "name": "stdout",
     "output_type": "stream",
     "text": [
      "ilk sayıyı giriniz: atıl\n",
      "Lüften sayıları düzgün giriniz: \n",
      "ilk sayıyı giriniz: 12\n",
      "ikinci sayıyı giriniz: 25\n",
      "işleminizi seçiniz:(+-*/) +\n",
      "12 + 25 = 37\n",
      "ilk sayıyı giriniz: 12\n",
      "ikinci sayıyı giriniz: os\n",
      "Lüften sayıları düzgün giriniz: \n",
      "Lüften sayıları düzgün giriniz: \n"
     ]
    }
   ],
   "source": [
    "def hesapla(a,b,islem):\n",
    "    if islem not in \"+-*/\":\n",
    "        return \"Lütfen şu işlemlerden birini seçin:(+-*/) \"\n",
    "    if islem=='+':\n",
    "        return (str(a)+\" + \"+str(b)+\" = \"+str(a+b))\n",
    "    if islem=='-':\n",
    "        return (str(a)+\" - \"+str(b)+\" = \"+str(a-b))\n",
    "    if islem=='*':\n",
    "        return (str(a)+\" * \"+str(b)+\" = \"+str(a*b))\n",
    "    if islem=='/':\n",
    "        return (str(a)+\" / \"+str(b)+\" = \"+str(a/b))\n",
    "    \n",
    "    \n",
    "while True:\n",
    "    try:\n",
    "        a=int(input(\"ilk sayıyı giriniz: \"))\n",
    "        b=int(input(\"ikinci sayıyı giriniz: \"))\n",
    "        islem=input(\"işleminizi seçiniz:(+-*/) \")\n",
    "        print(hesapla(a,b,islem))\n",
    "    except:\n",
    "        print(\"Lüften sayıları düzgün giriniz: \")"
   ]
  },
  {
   "cell_type": "markdown",
   "id": "a61ec262",
   "metadata": {},
   "source": []
  },
  {
   "cell_type": "code",
   "execution_count": null,
   "id": "dc50aae5",
   "metadata": {},
   "outputs": [],
   "source": []
  }
 ],
 "metadata": {
  "kernelspec": {
   "display_name": "Python 3 (ipykernel)",
   "language": "python",
   "name": "python3"
  },
  "language_info": {
   "codemirror_mode": {
    "name": "ipython",
    "version": 3
   },
   "file_extension": ".py",
   "mimetype": "text/x-python",
   "name": "python",
   "nbconvert_exporter": "python",
   "pygments_lexer": "ipython3",
   "version": "3.9.7"
  }
 },
 "nbformat": 4,
 "nbformat_minor": 5
}
