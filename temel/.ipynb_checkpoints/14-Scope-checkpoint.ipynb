{
 "cells": [
  {
   "cell_type": "markdown",
   "id": "720ed41e",
   "metadata": {},
   "source": [
    "# Scope(kapsam)"
   ]
  },
  {
   "cell_type": "markdown",
   "id": "37cbefcb",
   "metadata": {},
   "source": [
    "## Local, Enclosing, Global, Built-In"
   ]
  },
  {
   "cell_type": "code",
   "execution_count": 2,
   "id": "67f68cc0",
   "metadata": {},
   "outputs": [],
   "source": [
    "benimadim=\"Atıl\""
   ]
  },
  {
   "cell_type": "code",
   "execution_count": 3,
   "id": "14cba1b4",
   "metadata": {},
   "outputs": [],
   "source": [
    "def benimFonksiyonum():\n",
    "    benimadim=\"Mahmut\"\n",
    "    #Enclosing\n",
    "    def icFunction():\n",
    "        benimadim=\"Ayşe\"\n",
    "        #Local\n",
    "        print(benimadim)\n",
    "    icFunction()"
   ]
  },
  {
   "cell_type": "code",
   "execution_count": 4,
   "id": "44eefd93",
   "metadata": {},
   "outputs": [
    {
     "name": "stdout",
     "output_type": "stream",
     "text": [
      "Ayşe\n"
     ]
    }
   ],
   "source": [
    "benimFonksiyonum()"
   ]
  },
  {
   "cell_type": "code",
   "execution_count": null,
   "id": "b20358b8",
   "metadata": {},
   "outputs": [],
   "source": []
  }
 ],
 "metadata": {
  "kernelspec": {
   "display_name": "Python 3 (ipykernel)",
   "language": "python",
   "name": "python3"
  },
  "language_info": {
   "codemirror_mode": {
    "name": "ipython",
    "version": 3
   },
   "file_extension": ".py",
   "mimetype": "text/x-python",
   "name": "python",
   "nbconvert_exporter": "python",
   "pygments_lexer": "ipython3",
   "version": "3.9.7"
  }
 },
 "nbformat": 4,
 "nbformat_minor": 5
}
