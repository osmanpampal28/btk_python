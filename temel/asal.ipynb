{
 "cells": [
  {
   "cell_type": "markdown",
   "id": "f8f8efb0",
   "metadata": {},
   "source": [
    "# Asal sayı"
   ]
  },
  {
   "cell_type": "code",
   "execution_count": 3,
   "id": "616632f7",
   "metadata": {},
   "outputs": [
    {
     "name": "stdout",
     "output_type": "stream",
     "text": [
      "0'dan büyük bir sayı giriniz: atıl\n",
      "hatalı giriş\n",
      "0'dan büyük bir sayı giriniz: jljajf\n",
      "hatalı giriş\n",
      "0'dan büyük bir sayı giriniz: 12\n",
      "12 sayısı asal bir sayı değildir\n"
     ]
    }
   ],
   "source": [
    "asalIndex=0\n",
    "while True:\n",
    "    try:\n",
    "        sayi1=-1\n",
    "        while(sayi1<0):\n",
    "            sayi1=int(input(\"0'dan büyük bir sayı giriniz: \"))\n",
    "            if sayi1>=0:\n",
    "                break\n",
    "    except:\n",
    "        print(\"hatalı giriş\")\n",
    "        continue\n",
    "    else:\n",
    "        break\n",
    "\n",
    "if(sayi1 == 0 or sayi1 == 1):\n",
    "    asalIndex=1\n",
    "    \n",
    "for number in range(2,sayi1):\n",
    "    if(sayi1%number==0):\n",
    "        asalIndex+=1\n",
    "        \n",
    "if asalIndex==0:\n",
    "    print(f\"{sayi1} sayısı asal bir sayıdır\")\n",
    "else:\n",
    "    print(f\"{sayi1} sayısı asal bir sayı değildir\")"
   ]
  },
  {
   "cell_type": "markdown",
   "id": "87b1d8e6",
   "metadata": {},
   "source": []
  },
  {
   "cell_type": "code",
   "execution_count": null,
   "id": "dc2a2919",
   "metadata": {},
   "outputs": [],
   "source": [
    "\n"
   ]
  },
  {
   "cell_type": "code",
   "execution_count": null,
   "id": "b07c7103",
   "metadata": {},
   "outputs": [],
   "source": []
  },
  {
   "cell_type": "code",
   "execution_count": 23,
   "id": "1c95c06f",
   "metadata": {},
   "outputs": [
    {
     "name": "stdout",
     "output_type": "stream",
     "text": [
      "24 sayısı asal bir sayı değildir\n"
     ]
    }
   ],
   "source": []
  },
  {
   "cell_type": "code",
   "execution_count": null,
   "id": "da329ae3",
   "metadata": {},
   "outputs": [],
   "source": []
  },
  {
   "cell_type": "code",
   "execution_count": null,
   "id": "67a56c03",
   "metadata": {},
   "outputs": [],
   "source": []
  },
  {
   "cell_type": "code",
   "execution_count": null,
   "id": "4a1a6fd8",
   "metadata": {},
   "outputs": [],
   "source": []
  }
 ],
 "metadata": {
  "kernelspec": {
   "display_name": "Python 3 (ipykernel)",
   "language": "python",
   "name": "python3"
  },
  "language_info": {
   "codemirror_mode": {
    "name": "ipython",
    "version": 3
   },
   "file_extension": ".py",
   "mimetype": "text/x-python",
   "name": "python",
   "nbconvert_exporter": "python",
   "pygments_lexer": "ipython3",
   "version": "3.9.7"
  }
 },
 "nbformat": 4,
 "nbformat_minor": 5
}
