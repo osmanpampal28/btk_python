{
 "cells": [
  {
   "cell_type": "markdown",
   "id": "fd31fd6e",
   "metadata": {},
   "source": [
    "## Condition"
   ]
  },
  {
   "cell_type": "markdown",
   "id": "25cc7ea7",
   "metadata": {},
   "source": [
    "# Eğer"
   ]
  },
  {
   "cell_type": "code",
   "execution_count": 2,
   "id": "4be4bf4f",
   "metadata": {},
   "outputs": [
    {
     "name": "stdout",
     "output_type": "stream",
     "text": [
      "if bloğu dışına çıkıldı\n"
     ]
    }
   ],
   "source": [
    "if 3>4:\n",
    "    print(\"Atıl Samancıoğlu\")\n",
    "    print(\"if koşulu sağlandı\")\n",
    "print(\"if bloğu dışına çıkıldı\")"
   ]
  },
  {
   "cell_type": "code",
   "execution_count": 3,
   "id": "b0f64c7d",
   "metadata": {},
   "outputs": [],
   "source": [
    "x=4\n",
    "y=4"
   ]
  },
  {
   "cell_type": "code",
   "execution_count": 5,
   "id": "8c713909",
   "metadata": {},
   "outputs": [
    {
     "name": "stdout",
     "output_type": "stream",
     "text": [
      "y ve x birbirlerine eşitmiş\n"
     ]
    }
   ],
   "source": [
    "if x>y:\n",
    "    print(\"x y'den daha büyük\")\n",
    "elif y>x:\n",
    "    print(\"y x'den daha büyük\")\n",
    "else:\n",
    "    print(\"y ve x birbirlerine eşitmiş\")"
   ]
  },
  {
   "cell_type": "code",
   "execution_count": 6,
   "id": "8b8a87a2",
   "metadata": {},
   "outputs": [],
   "source": [
    "karakterCanli=False"
   ]
  },
  {
   "cell_type": "code",
   "execution_count": 7,
   "id": "a076d0af",
   "metadata": {},
   "outputs": [
    {
     "name": "stdout",
     "output_type": "stream",
     "text": [
      "karakter canlı değil\n"
     ]
    }
   ],
   "source": [
    "if not karakterCanli:\n",
    "    print(\"karakter canlı değil\")"
   ]
  },
  {
   "cell_type": "code",
   "execution_count": 8,
   "id": "916c0f69",
   "metadata": {},
   "outputs": [],
   "source": [
    "isim=\"Osman\""
   ]
  },
  {
   "cell_type": "code",
   "execution_count": 9,
   "id": "9140b726",
   "metadata": {},
   "outputs": [
    {
     "name": "stdout",
     "output_type": "stream",
     "text": [
      "var\n"
     ]
    }
   ],
   "source": [
    "if \"Os\" in isim:\n",
    "    print(\"var\")\n",
    "else:\n",
    "    print(\"yok\")"
   ]
  },
  {
   "cell_type": "code",
   "execution_count": 10,
   "id": "5a7655ce",
   "metadata": {},
   "outputs": [],
   "source": [
    "listem=[10,20,30,40]"
   ]
  },
  {
   "cell_type": "code",
   "execution_count": 11,
   "id": "5437945f",
   "metadata": {},
   "outputs": [
    {
     "name": "stdout",
     "output_type": "stream",
     "text": [
      "yok\n"
     ]
    }
   ],
   "source": [
    "if 60 in listem:\n",
    "    print(\"var\")\n",
    "else:\n",
    "    print(\"yok\")"
   ]
  },
  {
   "cell_type": "code",
   "execution_count": 12,
   "id": "a2e4f60f",
   "metadata": {},
   "outputs": [],
   "source": [
    "sozluk={\n",
    "    \"muz\":100,\n",
    "    \"elma\":150,\n",
    "    \"karpuz\":500\n",
    "}"
   ]
  },
  {
   "cell_type": "code",
   "execution_count": 13,
   "id": "6c49880d",
   "metadata": {},
   "outputs": [
    {
     "name": "stdout",
     "output_type": "stream",
     "text": [
      "var\n"
     ]
    }
   ],
   "source": [
    "if \"muz\" in sozluk.keys():\n",
    "    print(\"var\")"
   ]
  },
  {
   "cell_type": "code",
   "execution_count": 14,
   "id": "c0e3be11",
   "metadata": {},
   "outputs": [
    {
     "name": "stdout",
     "output_type": "stream",
     "text": [
      "var\n"
     ]
    }
   ],
   "source": [
    "if 100 in sozluk.values():\n",
    "    print(\"var\")"
   ]
  },
  {
   "cell_type": "code",
   "execution_count": null,
   "id": "9d9804fe",
   "metadata": {},
   "outputs": [],
   "source": []
  },
  {
   "cell_type": "code",
   "execution_count": null,
   "id": "7846e0ad",
   "metadata": {},
   "outputs": [],
   "source": []
  }
 ],
 "metadata": {
  "kernelspec": {
   "display_name": "Python 3 (ipykernel)",
   "language": "python",
   "name": "python3"
  },
  "language_info": {
   "codemirror_mode": {
    "name": "ipython",
    "version": 3
   },
   "file_extension": ".py",
   "mimetype": "text/x-python",
   "name": "python",
   "nbconvert_exporter": "python",
   "pygments_lexer": "ipython3",
   "version": "3.9.7"
  }
 },
 "nbformat": 4,
 "nbformat_minor": 5
}
