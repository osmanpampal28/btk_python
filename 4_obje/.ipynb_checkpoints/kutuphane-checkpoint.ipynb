{
 "cells": [
  {
   "cell_type": "markdown",
   "id": "ee59937a",
   "metadata": {},
   "source": [
    "# Kütüphaneler "
   ]
  },
  {
   "cell_type": "code",
   "execution_count": 1,
   "id": "8091c54c",
   "metadata": {},
   "outputs": [],
   "source": [
    "import numpy as np\n",
    "import matplotlib.pyplot as matplot"
   ]
  },
  {
   "cell_type": "code",
   "execution_count": 2,
   "id": "6b6d0138",
   "metadata": {},
   "outputs": [
    {
     "data": {
      "text/plain": [
       "4000.677578354064"
      ]
     },
     "execution_count": 2,
     "metadata": {},
     "output_type": "execute_result"
    }
   ],
   "source": [
    "maasListesi=np.random.normal(4000,50,1000)\n",
    "np.mean(maasListesi)"
   ]
  },
  {
   "cell_type": "code",
   "execution_count": 3,
   "id": "1338cbc7",
   "metadata": {},
   "outputs": [
    {
     "data": {
      "image/png": "[encoded data removed]",
      "text/plain": [
       "<Figure size 432x288 with 1 Axes>"
      ]
     },
     "metadata": {
      "needs_background": "light"
     },
     "output_type": "display_data"
    }
   ],
   "source": [
    "matplot.hist(maasListesi,50)\n",
    "matplot.show()"
   ]
  },
  {
   "cell_type": "code",
   "execution_count": null,
   "id": "5b04b301",
   "metadata": {},
   "outputs": [],
   "source": []
  }
 ],
 "metadata": {
  "kernelspec": {
   "display_name": "Python 3 (ipykernel)",
   "language": "python",
   "name": "python3"
  },
  "language_info": {
   "codemirror_mode": {
    "name": "ipython",
    "version": 3
   },
   "file_extension": ".py",
   "mimetype": "text/x-python",
   "name": "python",
   "nbconvert_exporter": "python",
   "pygments_lexer": "ipython3",
   "version": "3.9.7"
  }
 },
 "nbformat": 4,
 "nbformat_minor": 5
}
