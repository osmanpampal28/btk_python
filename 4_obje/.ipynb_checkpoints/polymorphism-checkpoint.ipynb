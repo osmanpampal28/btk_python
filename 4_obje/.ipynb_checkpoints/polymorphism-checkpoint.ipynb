{
 "cells": [
  {
   "cell_type": "markdown",
   "id": "c5ddda57",
   "metadata": {},
   "source": [
    "## Polymorphism"
   ]
  },
  {
   "cell_type": "code",
   "execution_count": 9,
   "id": "4352759f",
   "metadata": {},
   "outputs": [],
   "source": [
    "class Elma():\n",
    "    def __init__(self,isim):\n",
    "        self.isim=isim\n",
    "        \n",
    "    def bilgiVer(self):\n",
    "        return self.isim+\" 100 kaloridir\""
   ]
  },
  {
   "cell_type": "code",
   "execution_count": 10,
   "id": "3b05fcfd",
   "metadata": {},
   "outputs": [],
   "source": [
    "class Muz():\n",
    "    def __init__(self,isim):\n",
    "        self.isim=isim\n",
    "        \n",
    "    def bilgiVer(self):\n",
    "        return self.isim+\" 150 kaloridir\""
   ]
  },
  {
   "cell_type": "code",
   "execution_count": 11,
   "id": "42e558cc",
   "metadata": {},
   "outputs": [
    {
     "data": {
      "text/plain": [
       "'elma 100 kaloridir'"
      ]
     },
     "execution_count": 11,
     "metadata": {},
     "output_type": "execute_result"
    }
   ],
   "source": [
    "elma=Elma(\"elma\")\n",
    "elma.bilgiVer()"
   ]
  },
  {
   "cell_type": "code",
   "execution_count": 12,
   "id": "c30b51c6",
   "metadata": {},
   "outputs": [
    {
     "data": {
      "text/plain": [
       "'muz 150 kaloridir'"
      ]
     },
     "execution_count": 12,
     "metadata": {},
     "output_type": "execute_result"
    }
   ],
   "source": [
    "muz=Muz(\"muz\")\n",
    "muz.bilgiVer()"
   ]
  },
  {
   "cell_type": "code",
   "execution_count": 13,
   "id": "44afe82c",
   "metadata": {},
   "outputs": [],
   "source": [
    "meyveListesi=[elma,muz]"
   ]
  },
  {
   "cell_type": "code",
   "execution_count": 14,
   "id": "8aa80ffe",
   "metadata": {},
   "outputs": [
    {
     "name": "stdout",
     "output_type": "stream",
     "text": [
      "elma 100 kaloridir\n",
      "muz 150 kaloridir\n"
     ]
    }
   ],
   "source": [
    "for meyve in meyveListesi:\n",
    "    print(meyve.bilgiVer())"
   ]
  },
  {
   "cell_type": "code",
   "execution_count": 15,
   "id": "27e5ccaf",
   "metadata": {},
   "outputs": [],
   "source": [
    "def bilgiAl(meyve):\n",
    "    print(meyve.bilgiVer())"
   ]
  },
  {
   "cell_type": "code",
   "execution_count": 16,
   "id": "94a4f19c",
   "metadata": {},
   "outputs": [
    {
     "name": "stdout",
     "output_type": "stream",
     "text": [
      "muz 150 kaloridir\n",
      "elma 100 kaloridir\n"
     ]
    }
   ],
   "source": [
    "bilgiAl(muz)\n",
    "bilgiAl(elma)"
   ]
  },
  {
   "cell_type": "code",
   "execution_count": 17,
   "id": "70f9074e",
   "metadata": {},
   "outputs": [
    {
     "name": "stdout",
     "output_type": "stream",
     "text": [
      "elma 100 kaloridir\n",
      "muz 150 kaloridir\n"
     ]
    }
   ],
   "source": [
    "for meyve in meyveListesi:\n",
    "    bilgiAl(meyve)"
   ]
  },
  {
   "cell_type": "code",
   "execution_count": null,
   "id": "d4593162",
   "metadata": {},
   "outputs": [],
   "source": []
  }
 ],
 "metadata": {
  "kernelspec": {
   "display_name": "Python 3 (ipykernel)",
   "language": "python",
   "name": "python3"
  },
  "language_info": {
   "codemirror_mode": {
    "name": "ipython",
    "version": 3
   },
   "file_extension": ".py",
   "mimetype": "text/x-python",
   "name": "python",
   "nbconvert_exporter": "python",
   "pygments_lexer": "ipython3",
   "version": "3.9.7"
  }
 },
 "nbformat": 4,
 "nbformat_minor": 5
}
