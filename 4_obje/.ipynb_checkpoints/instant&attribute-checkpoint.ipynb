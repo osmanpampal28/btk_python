{
 "cells": [
  {
   "cell_type": "markdown",
   "id": "c779cc9a",
   "metadata": {},
   "source": [
    "# instance & attribute"
   ]
  },
  {
   "cell_type": "code",
   "execution_count": 18,
   "id": "fccecc07",
   "metadata": {},
   "outputs": [],
   "source": [
    "class SuperKahraman():\n",
    "    \n",
    "    \n",
    "    ozelGuc=\"Gorunmezlik\"\n",
    "    \n",
    "    def __init__(self,isimInput,yasInput,meslekInput):\n",
    "        print(\"constructor called\")\n",
    "        self.isimInput=isimInput\n",
    "        self.yasInput=yasInput\n",
    "        self.meslekInput=meslekInput\n",
    "        \n",
    "    def ornekMethod(self):\n",
    "        print(f\"ben süperkahramanım ve benim mesleğim : {self.meslekInput}\")"
   ]
  },
  {
   "cell_type": "code",
   "execution_count": 19,
   "id": "e90b34a8",
   "metadata": {},
   "outputs": [
    {
     "name": "stdout",
     "output_type": "stream",
     "text": [
      "constructor called\n"
     ]
    }
   ],
   "source": [
    "superman=SuperKahraman(\"Superman\",30,\"Gazeteci\")"
   ]
  },
  {
   "cell_type": "code",
   "execution_count": 20,
   "id": "4baf64c4",
   "metadata": {},
   "outputs": [
    {
     "name": "stdout",
     "output_type": "stream",
     "text": [
      "ben süperkahramanım ve benim mesleğim : Gazeteci\n"
     ]
    }
   ],
   "source": [
    "superman.ornekMethod()"
   ]
  },
  {
   "cell_type": "markdown",
   "id": "31110a2b",
   "metadata": {},
   "source": [
    "## Default değerler"
   ]
  },
  {
   "cell_type": "code",
   "execution_count": 24,
   "id": "fbca3362",
   "metadata": {},
   "outputs": [],
   "source": [
    "class Kopek():\n",
    "    \n",
    "    yilCarpani=7\n",
    "    \n",
    "    def __init__(self,yas=5):\n",
    "        self.yas=yas\n",
    "    \n",
    "    def  insanYasiniHesapla(self):\n",
    "        return self.yas*self.yilCarpani\n",
    "    "
   ]
  },
  {
   "cell_type": "code",
   "execution_count": 25,
   "id": "0f7f7d66",
   "metadata": {},
   "outputs": [],
   "source": [
    "benimKopek=Kopek()"
   ]
  },
  {
   "cell_type": "code",
   "execution_count": 26,
   "id": "c1c6589c",
   "metadata": {},
   "outputs": [
    {
     "data": {
      "text/plain": [
       "5"
      ]
     },
     "execution_count": 26,
     "metadata": {},
     "output_type": "execute_result"
    }
   ],
   "source": [
    "benimKopek.yas"
   ]
  },
  {
   "cell_type": "code",
   "execution_count": 27,
   "id": "1373909b",
   "metadata": {},
   "outputs": [
    {
     "data": {
      "text/plain": [
       "35"
      ]
     },
     "execution_count": 27,
     "metadata": {},
     "output_type": "execute_result"
    }
   ],
   "source": [
    "benimKopek.insanYasiniHesapla()"
   ]
  },
  {
   "cell_type": "code",
   "execution_count": null,
   "id": "9a1cb254",
   "metadata": {},
   "outputs": [],
   "source": []
  }
 ],
 "metadata": {
  "kernelspec": {
   "display_name": "Python 3 (ipykernel)",
   "language": "python",
   "name": "python3"
  },
  "language_info": {
   "codemirror_mode": {
    "name": "ipython",
    "version": 3
   },
   "file_extension": ".py",
   "mimetype": "text/x-python",
   "name": "python",
   "nbconvert_exporter": "python",
   "pygments_lexer": "ipython3",
   "version": "3.9.7"
  }
 },
 "nbformat": 4,
 "nbformat_minor": 5
}
