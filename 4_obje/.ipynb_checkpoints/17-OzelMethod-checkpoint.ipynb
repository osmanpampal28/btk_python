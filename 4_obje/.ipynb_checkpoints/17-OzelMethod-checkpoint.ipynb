{
 "cells": [
  {
   "cell_type": "markdown",
   "id": "cfc9a476",
   "metadata": {},
   "source": [
    "# Özel Methodlar"
   ]
  },
  {
   "cell_type": "code",
   "execution_count": 3,
   "id": "ccf9d62d",
   "metadata": {},
   "outputs": [],
   "source": [
    "class Meyve():\n",
    "    def __init__(self,isim,kalori):\n",
    "        self.isim=isim\n",
    "        self.kalori=kalori\n",
    "        \n",
    "    def __str__(self):\n",
    "        return f\"{self.isim} şu kadar kaloriye sahiptir: {self.kalori}\"\n",
    "    \n",
    "    def __len__(self):\n",
    "        return self.kalori"
   ]
  },
  {
   "cell_type": "code",
   "execution_count": 4,
   "id": "28d938f1",
   "metadata": {},
   "outputs": [],
   "source": [
    "muz=Meyve(\"muz\",150)"
   ]
  },
  {
   "cell_type": "code",
   "execution_count": 5,
   "id": "e310cc23",
   "metadata": {},
   "outputs": [
    {
     "name": "stdout",
     "output_type": "stream",
     "text": [
      "muz şu kadar kaloriye sahiptir: 150\n"
     ]
    }
   ],
   "source": [
    "print(muz)"
   ]
  },
  {
   "cell_type": "code",
   "execution_count": 6,
   "id": "2b1b97a5",
   "metadata": {},
   "outputs": [
    {
     "data": {
      "text/plain": [
       "150"
      ]
     },
     "execution_count": 6,
     "metadata": {},
     "output_type": "execute_result"
    }
   ],
   "source": [
    "len(muz)"
   ]
  },
  {
   "cell_type": "code",
   "execution_count": null,
   "id": "dcc7014b",
   "metadata": {},
   "outputs": [],
   "source": []
  }
 ],
 "metadata": {
  "kernelspec": {
   "display_name": "Python 3 (ipykernel)",
   "language": "python",
   "name": "python3"
  },
  "language_info": {
   "codemirror_mode": {
    "name": "ipython",
    "version": 3
   },
   "file_extension": ".py",
   "mimetype": "text/x-python",
   "name": "python",
   "nbconvert_exporter": "python",
   "pygments_lexer": "ipython3",
   "version": "3.9.7"
  }
 },
 "nbformat": 4,
 "nbformat_minor": 5
}
