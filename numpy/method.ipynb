{
 "cells": [
  {
   "cell_type": "markdown",
   "id": "8bc086e4",
   "metadata": {},
   "source": [
    "# arange"
   ]
  },
  {
   "cell_type": "code",
   "execution_count": 4,
   "id": "bbd8ca5a",
   "metadata": {},
   "outputs": [],
   "source": [
    "import numpy as np"
   ]
  },
  {
   "cell_type": "code",
   "execution_count": 5,
   "id": "7c61f76d",
   "metadata": {},
   "outputs": [
    {
     "data": {
      "text/plain": [
       "[0, 1, 2, 3, 4, 5, 6, 7, 8, 9]"
      ]
     },
     "execution_count": 5,
     "metadata": {},
     "output_type": "execute_result"
    }
   ],
   "source": [
    "list(range(0,10))"
   ]
  },
  {
   "cell_type": "code",
   "execution_count": 6,
   "id": "a622cb35",
   "metadata": {},
   "outputs": [
    {
     "data": {
      "text/plain": [
       "array([0, 1, 2, 3, 4, 5, 6, 7, 8, 9])"
      ]
     },
     "execution_count": 6,
     "metadata": {},
     "output_type": "execute_result"
    }
   ],
   "source": [
    "np.arange(0,10)"
   ]
  },
  {
   "cell_type": "code",
   "execution_count": 9,
   "id": "34e0ff1d",
   "metadata": {},
   "outputs": [
    {
     "data": {
      "text/plain": [
       "array([0, 2, 4, 6, 8])"
      ]
     },
     "execution_count": 9,
     "metadata": {},
     "output_type": "execute_result"
    }
   ],
   "source": [
    "np.arange(0,10,2)"
   ]
  },
  {
   "cell_type": "markdown",
   "id": "dfb595f0",
   "metadata": {},
   "source": [
    "# zeros"
   ]
  },
  {
   "cell_type": "code",
   "execution_count": 10,
   "id": "557308c5",
   "metadata": {},
   "outputs": [
    {
     "data": {
      "text/plain": [
       "array([0., 0., 0., 0., 0.])"
      ]
     },
     "execution_count": 10,
     "metadata": {},
     "output_type": "execute_result"
    }
   ],
   "source": [
    "np.zeros(5)"
   ]
  },
  {
   "cell_type": "code",
   "execution_count": 11,
   "id": "9fe05bf3",
   "metadata": {},
   "outputs": [
    {
     "data": {
      "text/plain": [
       "array([[0., 0.],\n",
       "       [0., 0.]])"
      ]
     },
     "execution_count": 11,
     "metadata": {},
     "output_type": "execute_result"
    }
   ],
   "source": [
    "np.zeros((2,2))"
   ]
  },
  {
   "cell_type": "markdown",
   "id": "5ca7ee44",
   "metadata": {},
   "source": [
    "# ones (tüm eleman 1)"
   ]
  },
  {
   "cell_type": "code",
   "execution_count": 12,
   "id": "f2401cf6",
   "metadata": {},
   "outputs": [
    {
     "data": {
      "text/plain": [
       "array([1., 1., 1., 1., 1.])"
      ]
     },
     "execution_count": 12,
     "metadata": {},
     "output_type": "execute_result"
    }
   ],
   "source": [
    "np.ones(5)"
   ]
  },
  {
   "cell_type": "code",
   "execution_count": 13,
   "id": "dd115bca",
   "metadata": {},
   "outputs": [
    {
     "data": {
      "text/plain": [
       "array([[1., 1.],\n",
       "       [1., 1.],\n",
       "       [1., 1.],\n",
       "       [1., 1.],\n",
       "       [1., 1.],\n",
       "       [1., 1.],\n",
       "       [1., 1.],\n",
       "       [1., 1.],\n",
       "       [1., 1.]])"
      ]
     },
     "execution_count": 13,
     "metadata": {},
     "output_type": "execute_result"
    }
   ],
   "source": [
    "np.ones((9,2))"
   ]
  },
  {
   "cell_type": "markdown",
   "id": "a43f232a",
   "metadata": {},
   "source": [
    "# linspace (parametreler arası eşit boşluk)"
   ]
  },
  {
   "cell_type": "code",
   "execution_count": 14,
   "id": "d6787837",
   "metadata": {},
   "outputs": [
    {
     "data": {
      "text/plain": [
       "array([ 0.,  5., 10., 15., 20.])"
      ]
     },
     "execution_count": 14,
     "metadata": {},
     "output_type": "execute_result"
    }
   ],
   "source": [
    "np.linspace(0,20,5)"
   ]
  },
  {
   "cell_type": "code",
   "execution_count": 15,
   "id": "c022c3b0",
   "metadata": {},
   "outputs": [],
   "source": [
    "# 0 ve 20 arasında 5 eşit parça"
   ]
  },
  {
   "cell_type": "code",
   "execution_count": 16,
   "id": "30235ba9",
   "metadata": {},
   "outputs": [
    {
     "data": {
      "text/plain": [
       "array([ 0.        ,  3.33333333,  6.66666667, 10.        , 13.33333333,\n",
       "       16.66666667, 20.        ])"
      ]
     },
     "execution_count": 16,
     "metadata": {},
     "output_type": "execute_result"
    }
   ],
   "source": [
    "np.linspace(0,20,7)"
   ]
  },
  {
   "cell_type": "markdown",
   "id": "e1330308",
   "metadata": {},
   "source": [
    "# eye (birim matris)"
   ]
  },
  {
   "cell_type": "code",
   "execution_count": 17,
   "id": "6696134d",
   "metadata": {},
   "outputs": [
    {
     "data": {
      "text/plain": [
       "array([[1., 0., 0.],\n",
       "       [0., 1., 0.],\n",
       "       [0., 0., 1.]])"
      ]
     },
     "execution_count": 17,
     "metadata": {},
     "output_type": "execute_result"
    }
   ],
   "source": [
    "np.eye(3)"
   ]
  },
  {
   "cell_type": "code",
   "execution_count": 18,
   "id": "be886d9d",
   "metadata": {},
   "outputs": [],
   "source": [
    "#birim matris"
   ]
  },
  {
   "cell_type": "markdown",
   "id": "4eb1191d",
   "metadata": {},
   "source": [
    "# random"
   ]
  },
  {
   "cell_type": "code",
   "execution_count": 19,
   "id": "2d605a0d",
   "metadata": {},
   "outputs": [
    {
     "data": {
      "text/plain": [
       "array([-0.66517203,  0.56727697,  0.69771576,  0.09255217,  0.01963751,\n",
       "       -0.65351674, -0.20365021, -1.03497334])"
      ]
     },
     "execution_count": 19,
     "metadata": {},
     "output_type": "execute_result"
    }
   ],
   "source": [
    "np.random.randn(8)"
   ]
  },
  {
   "cell_type": "code",
   "execution_count": 20,
   "id": "ea5c5806",
   "metadata": {},
   "outputs": [
    {
     "data": {
      "text/plain": [
       "array([[-0.05052995, -1.30497749, -0.22974412],\n",
       "       [ 0.87574864,  0.75553298,  2.11428245],\n",
       "       [ 0.43291984,  0.23909401, -0.25392331]])"
      ]
     },
     "execution_count": 20,
     "metadata": {},
     "output_type": "execute_result"
    }
   ],
   "source": [
    "np.random.randn(3,3)"
   ]
  },
  {
   "cell_type": "code",
   "execution_count": 21,
   "id": "35fbda0c",
   "metadata": {},
   "outputs": [
    {
     "data": {
      "text/plain": [
       "8"
      ]
     },
     "execution_count": 21,
     "metadata": {},
     "output_type": "execute_result"
    }
   ],
   "source": [
    "np.random.randint(1,10)"
   ]
  },
  {
   "cell_type": "code",
   "execution_count": 22,
   "id": "c0405cd8",
   "metadata": {},
   "outputs": [
    {
     "data": {
      "text/plain": [
       "array([4, 7, 8, 1, 6, 5, 9, 9])"
      ]
     },
     "execution_count": 22,
     "metadata": {},
     "output_type": "execute_result"
    }
   ],
   "source": [
    "np.random.randint(1,10,8)"
   ]
  },
  {
   "cell_type": "code",
   "execution_count": 23,
   "id": "a7257509",
   "metadata": {},
   "outputs": [],
   "source": [
    "numpyDizi=np.arange(30)"
   ]
  },
  {
   "cell_type": "code",
   "execution_count": 24,
   "id": "3845d8dc",
   "metadata": {},
   "outputs": [
    {
     "data": {
      "text/plain": [
       "array([ 0,  1,  2,  3,  4,  5,  6,  7,  8,  9, 10, 11, 12, 13, 14, 15, 16,\n",
       "       17, 18, 19, 20, 21, 22, 23, 24, 25, 26, 27, 28, 29])"
      ]
     },
     "execution_count": 24,
     "metadata": {},
     "output_type": "execute_result"
    }
   ],
   "source": [
    "numpyDizi"
   ]
  },
  {
   "cell_type": "code",
   "execution_count": 25,
   "id": "1c917d44",
   "metadata": {},
   "outputs": [],
   "source": [
    "numpyRandomDizi=np.random.randint(0,100,20)"
   ]
  },
  {
   "cell_type": "code",
   "execution_count": 26,
   "id": "27f9e264",
   "metadata": {},
   "outputs": [
    {
     "data": {
      "text/plain": [
       "array([16, 36, 83, 82, 99, 77,  5,  2,  3, 96, 52, 22, 18, 58, 74, 39, 77,\n",
       "       81, 87, 96])"
      ]
     },
     "execution_count": 26,
     "metadata": {},
     "output_type": "execute_result"
    }
   ],
   "source": [
    "numpyRandomDizi"
   ]
  },
  {
   "cell_type": "markdown",
   "id": "6917b676",
   "metadata": {},
   "source": [
    "## numpy dizi metodları"
   ]
  },
  {
   "cell_type": "code",
   "execution_count": 27,
   "id": "b4bfbf8b",
   "metadata": {},
   "outputs": [
    {
     "data": {
      "text/plain": [
       "array([[ 0,  1,  2,  3,  4,  5],\n",
       "       [ 6,  7,  8,  9, 10, 11],\n",
       "       [12, 13, 14, 15, 16, 17],\n",
       "       [18, 19, 20, 21, 22, 23],\n",
       "       [24, 25, 26, 27, 28, 29]])"
      ]
     },
     "execution_count": 27,
     "metadata": {},
     "output_type": "execute_result"
    }
   ],
   "source": [
    "numpyDizi.reshape(5,6)"
   ]
  },
  {
   "cell_type": "code",
   "execution_count": 28,
   "id": "6871bb91",
   "metadata": {},
   "outputs": [
    {
     "data": {
      "text/plain": [
       "29"
      ]
     },
     "execution_count": 28,
     "metadata": {},
     "output_type": "execute_result"
    }
   ],
   "source": [
    "numpyDizi.max()"
   ]
  },
  {
   "cell_type": "code",
   "execution_count": 29,
   "id": "ea6c01cd",
   "metadata": {},
   "outputs": [
    {
     "data": {
      "text/plain": [
       "0"
      ]
     },
     "execution_count": 29,
     "metadata": {},
     "output_type": "execute_result"
    }
   ],
   "source": [
    "numpyDizi.min()"
   ]
  },
  {
   "cell_type": "code",
   "execution_count": 31,
   "id": "a56ed52f",
   "metadata": {},
   "outputs": [
    {
     "data": {
      "text/plain": [
       "29"
      ]
     },
     "execution_count": 31,
     "metadata": {},
     "output_type": "execute_result"
    }
   ],
   "source": [
    "numpyDizi.argmax()  #max değerli sayının olduğu index"
   ]
  },
  {
   "cell_type": "code",
   "execution_count": 33,
   "id": "3e02c508",
   "metadata": {},
   "outputs": [
    {
     "data": {
      "text/plain": [
       "(30,)"
      ]
     },
     "execution_count": 33,
     "metadata": {},
     "output_type": "execute_result"
    }
   ],
   "source": [
    "numpyDizi.shape"
   ]
  },
  {
   "cell_type": "code",
   "execution_count": 34,
   "id": "aa66150b",
   "metadata": {},
   "outputs": [
    {
     "data": {
      "text/plain": [
       "(5, 6)"
      ]
     },
     "execution_count": 34,
     "metadata": {},
     "output_type": "execute_result"
    }
   ],
   "source": [
    "reshapeDizi=numpyDizi.reshape(5,6)\n",
    "reshapeDizi.shape"
   ]
  },
  {
   "cell_type": "markdown",
   "id": "35934506",
   "metadata": {},
   "source": [
    "## random integer matris"
   ]
  },
  {
   "cell_type": "code",
   "execution_count": 10,
   "id": "ce303314",
   "metadata": {},
   "outputs": [
    {
     "data": {
      "text/plain": [
       "array([[69, 49, 81, 57],\n",
       "       [52,  5, 90, 14]])"
      ]
     },
     "execution_count": 10,
     "metadata": {},
     "output_type": "execute_result"
    }
   ],
   "source": [
    "np.random.randint(100, size=(2, 4))"
   ]
  },
  {
   "cell_type": "code",
   "execution_count": null,
   "id": "dba1d44d",
   "metadata": {},
   "outputs": [],
   "source": []
  }
 ],
 "metadata": {
  "kernelspec": {
   "display_name": "Python 3 (ipykernel)",
   "language": "python",
   "name": "python3"
  },
  "language_info": {
   "codemirror_mode": {
    "name": "ipython",
    "version": 3
   },
   "file_extension": ".py",
   "mimetype": "text/x-python",
   "name": "python",
   "nbconvert_exporter": "python",
   "pygments_lexer": "ipython3",
   "version": "3.9.7"
  }
 },
 "nbformat": 4,
 "nbformat_minor": 5
}
