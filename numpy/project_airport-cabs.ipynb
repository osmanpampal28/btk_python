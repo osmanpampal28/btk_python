{
 "cells": [
  {
   "cell_type": "markdown",
   "id": "1c1957aa",
   "metadata": {},
   "source": [
    "# Airport Cabs"
   ]
  },
  {
   "cell_type": "code",
   "execution_count": 1,
   "id": "e8cf670b",
   "metadata": {},
   "outputs": [],
   "source": [
    "import numpy as np"
   ]
  },
  {
   "cell_type": "markdown",
   "id": "002f9a7c",
   "metadata": {},
   "source": [
    "## mean speed of all rides"
   ]
  },
  {
   "cell_type": "code",
   "execution_count": 11,
   "id": "056bef83",
   "metadata": {},
   "outputs": [],
   "source": [
    "taxi = np.genfromtxt('nyc_taxis.csv',delimiter=',',skip_header=True)"
   ]
  },
  {
   "cell_type": "code",
   "execution_count": 12,
   "id": "b85617db",
   "metadata": {},
   "outputs": [],
   "source": [
    "speed=taxi[:,7]/(taxi[:,8]/3600) #The reason why we divide by 3600 is convert seconds to hours"
   ]
  },
  {
   "cell_type": "code",
   "execution_count": 13,
   "id": "a6e5d8ce",
   "metadata": {},
   "outputs": [
    {
     "name": "stdout",
     "output_type": "stream",
     "text": [
      "32.24258580925573\n"
     ]
    }
   ],
   "source": [
    "mean_speed=speed.mean()\n",
    "print(mean_speed)"
   ]
  },
  {
   "cell_type": "code",
   "execution_count": 14,
   "id": "8bf9a15a",
   "metadata": {},
   "outputs": [
    {
     "data": {
      "text/plain": [
       "numpy.ndarray"
      ]
     },
     "execution_count": 14,
     "metadata": {},
     "output_type": "execute_result"
    }
   ],
   "source": [
    "type(speed)"
   ]
  },
  {
   "cell_type": "code",
   "execution_count": null,
   "id": "ba6849d2",
   "metadata": {},
   "outputs": [],
   "source": []
  },
  {
   "cell_type": "code",
   "execution_count": null,
   "id": "6d0e6bed",
   "metadata": {},
   "outputs": [],
   "source": []
  },
  {
   "cell_type": "markdown",
   "id": "1731639b",
   "metadata": {},
   "source": [
    "## number of rides taken in February"
   ]
  },
  {
   "cell_type": "code",
   "execution_count": 15,
   "id": "0eccc667",
   "metadata": {},
   "outputs": [
    {
     "name": "stdout",
     "output_type": "stream",
     "text": [
      "13333\n"
     ]
    }
   ],
   "source": [
    "rides_feb=taxi[taxi[:,1] == 2,1]\n",
    "print(rides_feb.shape[0])"
   ]
  },
  {
   "cell_type": "code",
   "execution_count": null,
   "id": "17e5ef51",
   "metadata": {},
   "outputs": [],
   "source": []
  },
  {
   "cell_type": "code",
   "execution_count": null,
   "id": "8770f893",
   "metadata": {},
   "outputs": [],
   "source": []
  },
  {
   "cell_type": "code",
   "execution_count": null,
   "id": "a0f9c6c8",
   "metadata": {},
   "outputs": [],
   "source": []
  },
  {
   "cell_type": "markdown",
   "id": "c4dad6ea",
   "metadata": {},
   "source": [
    "## number of rides with a tip greater than 50 dollar"
   ]
  },
  {
   "cell_type": "code",
   "execution_count": 17,
   "id": "2999fc15",
   "metadata": {},
   "outputs": [
    {
     "name": "stdout",
     "output_type": "stream",
     "text": [
      "16\n"
     ]
    }
   ],
   "source": [
    "fifty_dollar=taxi[taxi[:,-3] > 50, -3].shape[0]\n",
    "print(fifty_dollar)"
   ]
  },
  {
   "cell_type": "code",
   "execution_count": null,
   "id": "ff707b98",
   "metadata": {},
   "outputs": [],
   "source": []
  },
  {
   "cell_type": "code",
   "execution_count": null,
   "id": "28dd501f",
   "metadata": {},
   "outputs": [],
   "source": []
  },
  {
   "cell_type": "code",
   "execution_count": null,
   "id": "8effe564",
   "metadata": {},
   "outputs": [],
   "source": []
  },
  {
   "cell_type": "markdown",
   "id": "e98840e9",
   "metadata": {},
   "source": [
    "## number of rides where drop was JFK airport"
   ]
  },
  {
   "cell_type": "code",
   "execution_count": 18,
   "id": "729184ee",
   "metadata": {},
   "outputs": [
    {
     "name": "stdout",
     "output_type": "stream",
     "text": [
      "11832\n"
     ]
    }
   ],
   "source": [
    "taxi_jfk=taxi[taxi[:,6] == 2,6].shape[0]\n",
    "print(taxi_jfk)"
   ]
  },
  {
   "cell_type": "code",
   "execution_count": null,
   "id": "f369ba2c",
   "metadata": {},
   "outputs": [],
   "source": []
  }
 ],
 "metadata": {
  "kernelspec": {
   "display_name": "Python 3 (ipykernel)",
   "language": "python",
   "name": "python3"
  },
  "language_info": {
   "codemirror_mode": {
    "name": "ipython",
    "version": 3
   },
   "file_extension": ".py",
   "mimetype": "text/x-python",
   "name": "python",
   "nbconvert_exporter": "python",
   "pygments_lexer": "ipython3",
   "version": "3.9.7"
  }
 },
 "nbformat": 4,
 "nbformat_minor": 5
}
