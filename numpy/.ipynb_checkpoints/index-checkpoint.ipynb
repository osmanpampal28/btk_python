{
 "cells": [
  {
   "cell_type": "markdown",
   "id": "8aa2ca24",
   "metadata": {},
   "source": [
    "# Index"
   ]
  },
  {
   "cell_type": "code",
   "execution_count": 1,
   "id": "75b2b0a0",
   "metadata": {},
   "outputs": [],
   "source": [
    "import numpy as np"
   ]
  },
  {
   "cell_type": "code",
   "execution_count": 2,
   "id": "6ca03b75",
   "metadata": {},
   "outputs": [],
   "source": [
    "dizim=np.arange(0,15)"
   ]
  },
  {
   "cell_type": "code",
   "execution_count": 3,
   "id": "a45e7b93",
   "metadata": {},
   "outputs": [
    {
     "data": {
      "text/plain": [
       "array([ 0,  1,  2,  3,  4,  5,  6,  7,  8,  9, 10, 11, 12, 13, 14])"
      ]
     },
     "execution_count": 3,
     "metadata": {},
     "output_type": "execute_result"
    }
   ],
   "source": [
    "dizim"
   ]
  },
  {
   "cell_type": "code",
   "execution_count": 4,
   "id": "78faa879",
   "metadata": {},
   "outputs": [
    {
     "data": {
      "text/plain": [
       "5"
      ]
     },
     "execution_count": 4,
     "metadata": {},
     "output_type": "execute_result"
    }
   ],
   "source": [
    "dizim[5]"
   ]
  },
  {
   "cell_type": "code",
   "execution_count": 5,
   "id": "1dc0a060",
   "metadata": {},
   "outputs": [
    {
     "data": {
      "text/plain": [
       "array([3, 4])"
      ]
     },
     "execution_count": 5,
     "metadata": {},
     "output_type": "execute_result"
    }
   ],
   "source": [
    "dizim[3:5]"
   ]
  },
  {
   "cell_type": "code",
   "execution_count": 6,
   "id": "84979ac0",
   "metadata": {},
   "outputs": [],
   "source": [
    "dizim[3:8]=-5"
   ]
  },
  {
   "cell_type": "code",
   "execution_count": 7,
   "id": "ec347965",
   "metadata": {},
   "outputs": [
    {
     "data": {
      "text/plain": [
       "array([ 0,  1,  2, -5, -5, -5, -5, -5,  8,  9, 10, 11, 12, 13, 14])"
      ]
     },
     "execution_count": 7,
     "metadata": {},
     "output_type": "execute_result"
    }
   ],
   "source": [
    "dizim"
   ]
  },
  {
   "cell_type": "code",
   "execution_count": 8,
   "id": "d202e463",
   "metadata": {},
   "outputs": [],
   "source": [
    "baskaDizi=np.arange(24)"
   ]
  },
  {
   "cell_type": "code",
   "execution_count": 9,
   "id": "77ad7554",
   "metadata": {},
   "outputs": [
    {
     "data": {
      "text/plain": [
       "array([ 0,  1,  2,  3,  4,  5,  6,  7,  8,  9, 10, 11, 12, 13, 14, 15, 16,\n",
       "       17, 18, 19, 20, 21, 22, 23])"
      ]
     },
     "execution_count": 9,
     "metadata": {},
     "output_type": "execute_result"
    }
   ],
   "source": [
    "baskaDizi"
   ]
  },
  {
   "cell_type": "code",
   "execution_count": 10,
   "id": "ed653236",
   "metadata": {},
   "outputs": [],
   "source": [
    "slicingDizi=baskaDizi[4:9]"
   ]
  },
  {
   "cell_type": "code",
   "execution_count": 11,
   "id": "fb6f1215",
   "metadata": {},
   "outputs": [
    {
     "data": {
      "text/plain": [
       "array([4, 5, 6, 7, 8])"
      ]
     },
     "execution_count": 11,
     "metadata": {},
     "output_type": "execute_result"
    }
   ],
   "source": [
    "slicingDizi"
   ]
  },
  {
   "cell_type": "code",
   "execution_count": 12,
   "id": "6638f683",
   "metadata": {},
   "outputs": [
    {
     "data": {
      "text/plain": [
       "array([ 0,  1,  2,  3,  4,  5,  6,  7,  8,  9, 10, 11, 12, 13, 14, 15, 16,\n",
       "       17, 18, 19, 20, 21, 22, 23])"
      ]
     },
     "execution_count": 12,
     "metadata": {},
     "output_type": "execute_result"
    }
   ],
   "source": [
    "baskaDizi"
   ]
  },
  {
   "cell_type": "code",
   "execution_count": 13,
   "id": "d5bce527",
   "metadata": {},
   "outputs": [
    {
     "data": {
      "text/plain": [
       "numpy.ndarray"
      ]
     },
     "execution_count": 13,
     "metadata": {},
     "output_type": "execute_result"
    }
   ],
   "source": [
    "type(slicingDizi)"
   ]
  },
  {
   "cell_type": "code",
   "execution_count": 14,
   "id": "4ab93081",
   "metadata": {},
   "outputs": [
    {
     "data": {
      "text/plain": [
       "array([700, 700, 700, 700, 700])"
      ]
     },
     "execution_count": 14,
     "metadata": {},
     "output_type": "execute_result"
    }
   ],
   "source": [
    "slicingDizi[:]=700\n",
    "slicingDizi"
   ]
  },
  {
   "cell_type": "code",
   "execution_count": 15,
   "id": "c082f70e",
   "metadata": {},
   "outputs": [
    {
     "data": {
      "text/plain": [
       "array([  0,   1,   2,   3, 700, 700, 700, 700, 700,   9,  10,  11,  12,\n",
       "        13,  14,  15,  16,  17,  18,  19,  20,  21,  22,  23])"
      ]
     },
     "execution_count": 15,
     "metadata": {},
     "output_type": "execute_result"
    }
   ],
   "source": [
    "baskaDizi"
   ]
  },
  {
   "cell_type": "markdown",
   "id": "083da959",
   "metadata": {},
   "source": [
    "# Yeni Örnek"
   ]
  },
  {
   "cell_type": "code",
   "execution_count": 16,
   "id": "5ceeaef6",
   "metadata": {},
   "outputs": [],
   "source": [
    "ornekDizi=np.arange(0,24)"
   ]
  },
  {
   "cell_type": "code",
   "execution_count": 17,
   "id": "0eb95473",
   "metadata": {},
   "outputs": [
    {
     "data": {
      "text/plain": [
       "array([ 0,  1,  2,  3,  4,  5,  6,  7,  8,  9, 10, 11, 12, 13, 14, 15, 16,\n",
       "       17, 18, 19, 20, 21, 22, 23])"
      ]
     },
     "execution_count": 17,
     "metadata": {},
     "output_type": "execute_result"
    }
   ],
   "source": [
    "ornekDizi"
   ]
  },
  {
   "cell_type": "code",
   "execution_count": 18,
   "id": "cc6005b7",
   "metadata": {},
   "outputs": [
    {
     "data": {
      "text/plain": [
       "array([ 0,  1,  2,  3,  4,  5,  6,  7,  8,  9, 10, 11, 12, 13, 14, 15, 16,\n",
       "       17, 18, 19, 20, 21, 22, 23])"
      ]
     },
     "execution_count": 18,
     "metadata": {},
     "output_type": "execute_result"
    }
   ],
   "source": [
    "ornekDiziKopya=ornekDizi.copy()\n",
    "ornekDiziKopya"
   ]
  },
  {
   "cell_type": "code",
   "execution_count": 19,
   "id": "ed4b44eb",
   "metadata": {},
   "outputs": [
    {
     "data": {
      "text/plain": [
       "array([ 0,  1,  2,  3,  4,  5,  6,  7,  8,  9, 10, 11, 12, 13, 14, 15, 16,\n",
       "       17, 18, 19, 20, 21, 22, 23])"
      ]
     },
     "execution_count": 19,
     "metadata": {},
     "output_type": "execute_result"
    }
   ],
   "source": [
    "ornekDizi"
   ]
  },
  {
   "cell_type": "code",
   "execution_count": 20,
   "id": "635124ca",
   "metadata": {},
   "outputs": [
    {
     "data": {
      "text/plain": [
       "array([3, 4, 5])"
      ]
     },
     "execution_count": 20,
     "metadata": {},
     "output_type": "execute_result"
    }
   ],
   "source": [
    "ornekDiziKopyaSlicing=ornekDiziKopya[3:6]\n",
    "ornekDiziKopyaSlicing"
   ]
  },
  {
   "cell_type": "code",
   "execution_count": 21,
   "id": "a69eea8c",
   "metadata": {},
   "outputs": [
    {
     "data": {
      "text/plain": [
       "array([800, 800, 800])"
      ]
     },
     "execution_count": 21,
     "metadata": {},
     "output_type": "execute_result"
    }
   ],
   "source": [
    "ornekDiziKopyaSlicing[:]=800\n",
    "ornekDiziKopyaSlicing"
   ]
  },
  {
   "cell_type": "code",
   "execution_count": 22,
   "id": "5cde9bc1",
   "metadata": {},
   "outputs": [
    {
     "data": {
      "text/plain": [
       "array([  0,   1,   2, 800, 800, 800,   6,   7,   8,   9,  10,  11,  12,\n",
       "        13,  14,  15,  16,  17,  18,  19,  20,  21,  22,  23])"
      ]
     },
     "execution_count": 22,
     "metadata": {},
     "output_type": "execute_result"
    }
   ],
   "source": [
    "ornekDiziKopya"
   ]
  },
  {
   "cell_type": "code",
   "execution_count": 23,
   "id": "990ccf9f",
   "metadata": {},
   "outputs": [
    {
     "data": {
      "text/plain": [
       "array([ 0,  1,  2,  3,  4,  5,  6,  7,  8,  9, 10, 11, 12, 13, 14, 15, 16,\n",
       "       17, 18, 19, 20, 21, 22, 23])"
      ]
     },
     "execution_count": 23,
     "metadata": {},
     "output_type": "execute_result"
    }
   ],
   "source": [
    "ornekDizi"
   ]
  },
  {
   "cell_type": "code",
   "execution_count": 24,
   "id": "9437849b",
   "metadata": {},
   "outputs": [],
   "source": [
    "# numpy'da bir diziden başka bir dizi üretilip işlendiğinde ana dizide de değişiklikler olur"
   ]
  },
  {
   "cell_type": "markdown",
   "id": "600b7def",
   "metadata": {},
   "source": [
    "# Matris"
   ]
  },
  {
   "cell_type": "code",
   "execution_count": 25,
   "id": "c1768935",
   "metadata": {},
   "outputs": [
    {
     "data": {
      "text/plain": [
       "[[10, 20, 30], [20, 30, 40], [40, 50, 60]]"
      ]
     },
     "execution_count": 25,
     "metadata": {},
     "output_type": "execute_result"
    }
   ],
   "source": [
    "listem=[[10,20,30],[20,30,40],[40,50,60]]\n",
    "listem"
   ]
  },
  {
   "cell_type": "code",
   "execution_count": 26,
   "id": "ac0770e8",
   "metadata": {},
   "outputs": [
    {
     "data": {
      "text/plain": [
       "array([[10, 20, 30],\n",
       "       [20, 30, 40],\n",
       "       [40, 50, 60]])"
      ]
     },
     "execution_count": 26,
     "metadata": {},
     "output_type": "execute_result"
    }
   ],
   "source": [
    "matrixDizim=np.array(listem)\n",
    "matrixDizim"
   ]
  },
  {
   "cell_type": "code",
   "execution_count": 27,
   "id": "5cf32318",
   "metadata": {},
   "outputs": [
    {
     "data": {
      "text/plain": [
       "40"
      ]
     },
     "execution_count": 27,
     "metadata": {},
     "output_type": "execute_result"
    }
   ],
   "source": [
    "matrixDizim[1][2]"
   ]
  },
  {
   "cell_type": "code",
   "execution_count": 28,
   "id": "247a56ec",
   "metadata": {},
   "outputs": [
    {
     "data": {
      "text/plain": [
       "40"
      ]
     },
     "execution_count": 28,
     "metadata": {},
     "output_type": "execute_result"
    }
   ],
   "source": [
    "matrixDizim[1,2]"
   ]
  },
  {
   "cell_type": "code",
   "execution_count": 29,
   "id": "44242479",
   "metadata": {},
   "outputs": [
    {
     "data": {
      "text/plain": [
       "array([40, 60])"
      ]
     },
     "execution_count": 29,
     "metadata": {},
     "output_type": "execute_result"
    }
   ],
   "source": [
    "matrixDizim[1:,2]"
   ]
  },
  {
   "cell_type": "code",
   "execution_count": 30,
   "id": "daaff005",
   "metadata": {},
   "outputs": [
    {
     "data": {
      "text/plain": [
       "array([60])"
      ]
     },
     "execution_count": 30,
     "metadata": {},
     "output_type": "execute_result"
    }
   ],
   "source": [
    "matrixDizim[2:,2]"
   ]
  },
  {
   "cell_type": "code",
   "execution_count": 31,
   "id": "bf3f9d22",
   "metadata": {},
   "outputs": [
    {
     "data": {
      "text/plain": [
       "array([30, 40, 60])"
      ]
     },
     "execution_count": 31,
     "metadata": {},
     "output_type": "execute_result"
    }
   ],
   "source": [
    "matrixDizim[0:,2]"
   ]
  },
  {
   "cell_type": "code",
   "execution_count": 36,
   "id": "eba42673",
   "metadata": {},
   "outputs": [
    {
     "data": {
      "text/plain": [
       "array([30, 50])"
      ]
     },
     "execution_count": 36,
     "metadata": {},
     "output_type": "execute_result"
    }
   ],
   "source": [
    "matrixDizim[1:,1]"
   ]
  },
  {
   "cell_type": "code",
   "execution_count": 37,
   "id": "e60e377d",
   "metadata": {},
   "outputs": [
    {
     "data": {
      "text/plain": [
       "array([[40, 50]])"
      ]
     },
     "execution_count": 37,
     "metadata": {},
     "output_type": "execute_result"
    }
   ],
   "source": [
    "matrixDizim[2:,0:2]"
   ]
  },
  {
   "cell_type": "markdown",
   "id": "9ec51b54",
   "metadata": {},
   "source": [
    "## örnek"
   ]
  },
  {
   "cell_type": "code",
   "execution_count": 54,
   "id": "304d2146",
   "metadata": {},
   "outputs": [
    {
     "data": {
      "text/plain": [
       "[[0, 1, 2, 3, 4],\n",
       " [5, 6, 7, 8, 9],\n",
       " [10, 11, 12, 13, 14],\n",
       " [15, 16, 17, 18, 19],\n",
       " [20, 21, 22, 23, 24]]"
      ]
     },
     "execution_count": 54,
     "metadata": {},
     "output_type": "execute_result"
    }
   ],
   "source": [
    "yeniListe=[[0,1,2,3,4],[5,6,7,8,9],[10,11,12,13,14],[15,16,17,18,19],[20,21,22,23,24]]\n",
    "yeniListe"
   ]
  },
  {
   "cell_type": "code",
   "execution_count": 56,
   "id": "cb4a74ed",
   "metadata": {},
   "outputs": [
    {
     "data": {
      "text/plain": [
       "array([[ 0,  1,  2,  3,  4],\n",
       "       [ 5,  6,  7,  8,  9],\n",
       "       [10, 11, 12, 13, 14],\n",
       "       [15, 16, 17, 18, 19],\n",
       "       [20, 21, 22, 23, 24]])"
      ]
     },
     "execution_count": 56,
     "metadata": {},
     "output_type": "execute_result"
    }
   ],
   "source": [
    "yeniMatris=np.array(yeniListe)\n",
    "yeniMatris"
   ]
  },
  {
   "cell_type": "code",
   "execution_count": 57,
   "id": "1c7d6606",
   "metadata": {},
   "outputs": [
    {
     "data": {
      "text/plain": [
       "array([10, 11, 12, 13, 14])"
      ]
     },
     "execution_count": 57,
     "metadata": {},
     "output_type": "execute_result"
    }
   ],
   "source": [
    "yeniMatris[2]"
   ]
  },
  {
   "cell_type": "code",
   "execution_count": 59,
   "id": "3156ee93",
   "metadata": {},
   "outputs": [
    {
     "data": {
      "text/plain": [
       "2"
      ]
     },
     "execution_count": 59,
     "metadata": {},
     "output_type": "execute_result"
    }
   ],
   "source": [
    "yeniMatris[0,2]"
   ]
  },
  {
   "cell_type": "code",
   "execution_count": 60,
   "id": "6ea23663",
   "metadata": {},
   "outputs": [
    {
     "data": {
      "text/plain": [
       "array([[ 0,  1,  2,  3,  4],\n",
       "       [10, 11, 12, 13, 14],\n",
       "       [20, 21, 22, 23, 24]])"
      ]
     },
     "execution_count": 60,
     "metadata": {},
     "output_type": "execute_result"
    }
   ],
   "source": [
    "yeniMatris[[0,2,4]]"
   ]
  },
  {
   "cell_type": "markdown",
   "id": "89641078",
   "metadata": {},
   "source": [
    "## operasyonlar"
   ]
  },
  {
   "cell_type": "code",
   "execution_count": 62,
   "id": "22c2c502",
   "metadata": {},
   "outputs": [
    {
     "data": {
      "text/plain": [
       "array([16, 56, 87, 20, 38, 74, 76, 28, 15, 41, 70, 63, 89,  6, 17, 28, 48,\n",
       "       45, 53, 27])"
      ]
     },
     "execution_count": 62,
     "metadata": {},
     "output_type": "execute_result"
    }
   ],
   "source": [
    "yeniBirDizi=np.random.randint(1,100,20)\n",
    "yeniBirDizi"
   ]
  },
  {
   "cell_type": "code",
   "execution_count": 63,
   "id": "797c6ae7",
   "metadata": {},
   "outputs": [
    {
     "data": {
      "text/plain": [
       "array([False,  True,  True, False,  True,  True,  True,  True, False,\n",
       "        True,  True,  True,  True, False, False,  True,  True,  True,\n",
       "        True,  True])"
      ]
     },
     "execution_count": 63,
     "metadata": {},
     "output_type": "execute_result"
    }
   ],
   "source": [
    "yeniBirDizi>24"
   ]
  },
  {
   "cell_type": "code",
   "execution_count": 65,
   "id": "7df6d5c7",
   "metadata": {},
   "outputs": [
    {
     "data": {
      "text/plain": [
       "array([False,  True,  True, False,  True,  True,  True,  True, False,\n",
       "        True,  True,  True,  True, False, False,  True,  True,  True,\n",
       "        True,  True])"
      ]
     },
     "execution_count": 65,
     "metadata": {},
     "output_type": "execute_result"
    }
   ],
   "source": [
    "sonucDizi=yeniBirDizi>24\n",
    "sonucDizi"
   ]
  },
  {
   "cell_type": "code",
   "execution_count": 66,
   "id": "b8269c11",
   "metadata": {},
   "outputs": [
    {
     "data": {
      "text/plain": [
       "array([16, 56, 87, 20, 38, 74, 76, 28, 15, 41, 70, 63, 89,  6, 17, 28, 48,\n",
       "       45, 53, 27])"
      ]
     },
     "execution_count": 66,
     "metadata": {},
     "output_type": "execute_result"
    }
   ],
   "source": [
    "yeniBirDizi"
   ]
  },
  {
   "cell_type": "code",
   "execution_count": 68,
   "id": "2702f90b",
   "metadata": {},
   "outputs": [
    {
     "data": {
      "text/plain": [
       "array([56, 87, 38, 74, 76, 28, 41, 70, 63, 89, 28, 48, 45, 53, 27])"
      ]
     },
     "execution_count": 68,
     "metadata": {},
     "output_type": "execute_result"
    }
   ],
   "source": [
    "yeniBirDizi[sonucDizi]  #sadece True olan değerleri getirir"
   ]
  },
  {
   "cell_type": "code",
   "execution_count": 70,
   "id": "2c393f9f",
   "metadata": {},
   "outputs": [
    {
     "data": {
      "text/plain": [
       "array([56, 87, 38, 74, 76, 28, 41, 70, 63, 89, 28, 48, 45, 53, 27])"
      ]
     },
     "execution_count": 70,
     "metadata": {},
     "output_type": "execute_result"
    }
   ],
   "source": [
    "yeniBirDizi[yeniBirDizi>24]  #aynı olarak yine True olan değerleri getirir"
   ]
  },
  {
   "cell_type": "code",
   "execution_count": 71,
   "id": "ebfe5509",
   "metadata": {},
   "outputs": [
    {
     "data": {
      "text/plain": [
       "array([ 0,  1,  2,  3,  4,  5,  6,  7,  8,  9, 10, 11, 12, 13, 14, 15, 16,\n",
       "       17, 18, 19, 20, 21, 22, 23])"
      ]
     },
     "execution_count": 71,
     "metadata": {},
     "output_type": "execute_result"
    }
   ],
   "source": [
    "sonDizi=np.arange(0,24)\n",
    "sonDizi"
   ]
  },
  {
   "cell_type": "code",
   "execution_count": 72,
   "id": "dcd23abe",
   "metadata": {},
   "outputs": [
    {
     "data": {
      "text/plain": [
       "array([ 0,  2,  4,  6,  8, 10, 12, 14, 16, 18, 20, 22, 24, 26, 28, 30, 32,\n",
       "       34, 36, 38, 40, 42, 44, 46])"
      ]
     },
     "execution_count": 72,
     "metadata": {},
     "output_type": "execute_result"
    }
   ],
   "source": [
    "sonDizi+sonDizi"
   ]
  },
  {
   "cell_type": "code",
   "execution_count": 73,
   "id": "bfdacc04",
   "metadata": {},
   "outputs": [
    {
     "data": {
      "text/plain": [
       "array([ 0,  1,  2,  3,  4,  5,  6,  7,  8,  9, 10, 11, 12, 13, 14, 15, 16,\n",
       "       17, 18, 19, 20, 21, 22, 23])"
      ]
     },
     "execution_count": 73,
     "metadata": {},
     "output_type": "execute_result"
    }
   ],
   "source": [
    "sonDizi"
   ]
  },
  {
   "cell_type": "code",
   "execution_count": 74,
   "id": "8e3b4c5d",
   "metadata": {},
   "outputs": [
    {
     "data": {
      "text/plain": [
       "array([0, 0, 0, 0, 0, 0, 0, 0, 0, 0, 0, 0, 0, 0, 0, 0, 0, 0, 0, 0, 0, 0,\n",
       "       0, 0])"
      ]
     },
     "execution_count": 74,
     "metadata": {},
     "output_type": "execute_result"
    }
   ],
   "source": [
    "sonDizi-sonDizi"
   ]
  },
  {
   "cell_type": "code",
   "execution_count": 75,
   "id": "17d7dbac",
   "metadata": {},
   "outputs": [
    {
     "name": "stderr",
     "output_type": "stream",
     "text": [
      "C:\\Users\\OSMANP~1\\AppData\\Local\\Temp/ipykernel_11168/1954055075.py:1: RuntimeWarning: invalid value encountered in true_divide\n",
      "  sonDizi/sonDizi\n"
     ]
    },
    {
     "data": {
      "text/plain": [
       "array([nan,  1.,  1.,  1.,  1.,  1.,  1.,  1.,  1.,  1.,  1.,  1.,  1.,\n",
       "        1.,  1.,  1.,  1.,  1.,  1.,  1.,  1.,  1.,  1.,  1.])"
      ]
     },
     "execution_count": 75,
     "metadata": {},
     "output_type": "execute_result"
    }
   ],
   "source": [
    "sonDizi/sonDizi"
   ]
  },
  {
   "cell_type": "code",
   "execution_count": 76,
   "id": "c5e1ab62",
   "metadata": {},
   "outputs": [
    {
     "data": {
      "text/plain": [
       "array([  0,   1,   4,   9,  16,  25,  36,  49,  64,  81, 100, 121, 144,\n",
       "       169, 196, 225, 256, 289, 324, 361, 400, 441, 484, 529])"
      ]
     },
     "execution_count": 76,
     "metadata": {},
     "output_type": "execute_result"
    }
   ],
   "source": [
    "sonDizi*sonDizi"
   ]
  },
  {
   "cell_type": "code",
   "execution_count": 77,
   "id": "48d8d84c",
   "metadata": {},
   "outputs": [
    {
     "data": {
      "text/plain": [
       "array([0.        , 1.        , 1.41421356, 1.73205081, 2.        ,\n",
       "       2.23606798, 2.44948974, 2.64575131, 2.82842712, 3.        ,\n",
       "       3.16227766, 3.31662479, 3.46410162, 3.60555128, 3.74165739,\n",
       "       3.87298335, 4.        , 4.12310563, 4.24264069, 4.35889894,\n",
       "       4.47213595, 4.58257569, 4.69041576, 4.79583152])"
      ]
     },
     "execution_count": 77,
     "metadata": {},
     "output_type": "execute_result"
    }
   ],
   "source": [
    "np.sqrt(sonDizi)"
   ]
  },
  {
   "cell_type": "code",
   "execution_count": 78,
   "id": "dccebc76",
   "metadata": {},
   "outputs": [
    {
     "data": {
      "text/plain": [
       "23"
      ]
     },
     "execution_count": 78,
     "metadata": {},
     "output_type": "execute_result"
    }
   ],
   "source": [
    "np.max(sonDizi)"
   ]
  },
  {
   "cell_type": "code",
   "execution_count": 79,
   "id": "475dbf8c",
   "metadata": {},
   "outputs": [
    {
     "data": {
      "text/plain": [
       "0"
      ]
     },
     "execution_count": 79,
     "metadata": {},
     "output_type": "execute_result"
    }
   ],
   "source": [
    "np.min(sonDizi)"
   ]
  },
  {
   "cell_type": "code",
   "execution_count": null,
   "id": "5625e37b",
   "metadata": {},
   "outputs": [],
   "source": []
  }
 ],
 "metadata": {
  "kernelspec": {
   "display_name": "Python 3 (ipykernel)",
   "language": "python",
   "name": "python3"
  },
  "language_info": {
   "codemirror_mode": {
    "name": "ipython",
    "version": 3
   },
   "file_extension": ".py",
   "mimetype": "text/x-python",
   "name": "python",
   "nbconvert_exporter": "python",
   "pygments_lexer": "ipython3",
   "version": "3.9.7"
  }
 },
 "nbformat": 4,
 "nbformat_minor": 5
}
